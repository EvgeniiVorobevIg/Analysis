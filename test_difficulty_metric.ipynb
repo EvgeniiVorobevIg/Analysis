{
  "nbformat": 4,
  "nbformat_minor": 0,
  "metadata": {
    "colab": {
      "provenance": [],
      "collapsed_sections": [],
      "include_colab_link": true
    },
    "kernelspec": {
      "name": "python3",
      "display_name": "Python 3"
    }
  },
  "cells": [
    {
      "cell_type": "markdown",
      "metadata": {
        "id": "view-in-github",
        "colab_type": "text"
      },
      "source": [
        "<a href=\"https://colab.research.google.com/github/EvgeniiVorobevIg/Analysis/blob/main/test_difficulty_metric.ipynb\" target=\"_parent\"><img src=\"https://colab.research.google.com/assets/colab-badge.svg\" alt=\"Open In Colab\"/></a>"
      ]
    },
    {
      "cell_type": "code",
      "metadata": {
        "id": "NYLwDQBrK0Qk"
      },
      "source": [
        "import pandas as pd\n",
        "import numpy as np"
      ],
      "execution_count": null,
      "outputs": []
    },
    {
      "cell_type": "markdown",
      "metadata": {
        "id": "GOM5J-6kK4oc"
      },
      "source": [
        "https://drive.google.com/file/d/1Fg3bvX2NOzd3pqcEkH8-epbZFll60-36"
      ]
    },
    {
      "cell_type": "code",
      "metadata": {
        "colab": {
          "base_uri": "https://localhost:8080/"
        },
        "id": "JEAdandEK3xS",
        "outputId": "d5e3cfa0-1240-4293-c897-4cdfb79b9e39"
      },
      "source": [
        "!gdown --id 1Fg3bvX2NOzd3pqcEkH8-epbZFll60-36"
      ],
      "execution_count": null,
      "outputs": [
        {
          "output_type": "stream",
          "text": [
            "Downloading...\n",
            "From: https://drive.google.com/uc?id=1Fg3bvX2NOzd3pqcEkH8-epbZFll60-36\n",
            "To: /content/plr_smpl_attempts.csv.gz\n",
            "87.6MB [00:01, 85.6MB/s]\n"
          ],
          "name": "stdout"
        }
      ]
    },
    {
      "cell_type": "code",
      "metadata": {
        "id": "xpju6Y4CLFwG"
      },
      "source": [
        "df = pd.read_csv('/content/plr_smpl_attempts.csv.gz',sep=';')"
      ],
      "execution_count": null,
      "outputs": []
    },
    {
      "cell_type": "code",
      "metadata": {
        "colab": {
          "base_uri": "https://localhost:8080/"
        },
        "id": "DGfKl2p2LZd3",
        "outputId": "3e2a7899-8cfd-4807-dff8-0a3c472e0925"
      },
      "source": [
        "len(df)"
      ],
      "execution_count": null,
      "outputs": [
        {
          "output_type": "execute_result",
          "data": {
            "text/plain": [
              "22231214"
            ]
          },
          "metadata": {
            "tags": []
          },
          "execution_count": 4
        }
      ]
    },
    {
      "cell_type": "code",
      "metadata": {
        "colab": {
          "base_uri": "https://localhost:8080/",
          "height": 195
        },
        "id": "kM5a9dvpLfpE",
        "outputId": "9b9b0258-22dc-4224-9838-4d9c6f8a22ea"
      },
      "source": [
        "df.head()"
      ],
      "execution_count": null,
      "outputs": [
        {
          "output_type": "execute_result",
          "data": {
            "text/html": [
              "<div>\n",
              "<style scoped>\n",
              "    .dataframe tbody tr th:only-of-type {\n",
              "        vertical-align: middle;\n",
              "    }\n",
              "\n",
              "    .dataframe tbody tr th {\n",
              "        vertical-align: top;\n",
              "    }\n",
              "\n",
              "    .dataframe thead th {\n",
              "        text-align: right;\n",
              "    }\n",
              "</style>\n",
              "<table border=\"1\" class=\"dataframe\">\n",
              "  <thead>\n",
              "    <tr style=\"text-align: right;\">\n",
              "      <th></th>\n",
              "      <th>uid</th>\n",
              "      <th>action</th>\n",
              "      <th>level</th>\n",
              "      <th>event_time</th>\n",
              "    </tr>\n",
              "  </thead>\n",
              "  <tbody>\n",
              "    <tr>\n",
              "      <th>0</th>\n",
              "      <td>elljQ2EySG03MDU0MTE3MTAyMTE3MA</td>\n",
              "      <td>failed</td>\n",
              "      <td>113</td>\n",
              "      <td>1512086924640</td>\n",
              "    </tr>\n",
              "    <tr>\n",
              "      <th>1</th>\n",
              "      <td>elljQ2EySG03MDU0MTE3MTAyMTE3MA</td>\n",
              "      <td>failed</td>\n",
              "      <td>113</td>\n",
              "      <td>1512086924640</td>\n",
              "    </tr>\n",
              "    <tr>\n",
              "      <th>2</th>\n",
              "      <td>elljQ2EySG03MDU0MTE3MTAyMTE3MA</td>\n",
              "      <td>failed</td>\n",
              "      <td>113</td>\n",
              "      <td>1512086924640</td>\n",
              "    </tr>\n",
              "    <tr>\n",
              "      <th>3</th>\n",
              "      <td>elljQ2EySG03MDU0MTE3MTAyMTE3MA</td>\n",
              "      <td>failed</td>\n",
              "      <td>113</td>\n",
              "      <td>1512086924640</td>\n",
              "    </tr>\n",
              "    <tr>\n",
              "      <th>4</th>\n",
              "      <td>elljQ2EySG03MDU0MTE3MTAyMTE3MA</td>\n",
              "      <td>failed</td>\n",
              "      <td>113</td>\n",
              "      <td>1512086924640</td>\n",
              "    </tr>\n",
              "  </tbody>\n",
              "</table>\n",
              "</div>"
            ],
            "text/plain": [
              "                              uid  action  level     event_time\n",
              "0  elljQ2EySG03MDU0MTE3MTAyMTE3MA  failed    113  1512086924640\n",
              "1  elljQ2EySG03MDU0MTE3MTAyMTE3MA  failed    113  1512086924640\n",
              "2  elljQ2EySG03MDU0MTE3MTAyMTE3MA  failed    113  1512086924640\n",
              "3  elljQ2EySG03MDU0MTE3MTAyMTE3MA  failed    113  1512086924640\n",
              "4  elljQ2EySG03MDU0MTE3MTAyMTE3MA  failed    113  1512086924640"
            ]
          },
          "metadata": {
            "tags": []
          },
          "execution_count": 5
        }
      ]
    },
    {
      "cell_type": "markdown",
      "metadata": {
        "id": "j75M6-82LzoD"
      },
      "source": [
        "Описание задачи\n",
        "Вам нужно исследовать данные о прохождении игроками уровней match3-игры и\n",
        "выполнить следующие задания:\n",
        "\n",
        "Задание 1  \n",
        "Предложить метрику, описывающую сложность уровней, и рассчитать ее.  \n",
        "\n",
        "Задание 2  \n",
        "По результатам предыдущего задания разделить уровни на группы по сложности и\n",
        "сделать вывод о плотности расположения сложных уровней в игре.  \n",
        "Задание 3  \n",
        "Рассчитать \"воронку\" прохождения уровней новым пользователем после установки\n",
        "игры.  \n",
        "Также мы хотели бы получить от вас комментарий по выполнению тестового задания.\n",
        "Он не должен быть очень большим. Нам интересно было бы узнать:\n",
        "- примерную оценку времени, которое вы потратили на выполнение задания;\n",
        "- комментарии по сформированной метрике (п1): почему данная метрика будет\n",
        "показательной;\n",
        "- возникали ли проблемы при выполнении тестового задания."
      ]
    },
    {
      "cell_type": "markdown",
      "metadata": {
        "id": "WG9P2NWvLhVV"
      },
      "source": [
        "Входные данные — файл plr_smpl_attempts.csv.gz, содержащий лог событий за\n",
        "определенный промежуток времени по первым 500 уровням в игре.\n",
        "Файл содержит четыре колонки:  \n",
        "❏ uid — уникальный id игрока;  \n",
        "❏ action — ‘completed’ для успешной попытки прохождения уровня, ‘failed’ для\n",
        "неуспешной;  \n",
        "❏ level — уровень, на котором произошло событие;  \n",
        "❏ event_time — event_time/1000 является unix timestamp времени получения события.  "
      ]
    },
    {
      "cell_type": "markdown",
      "metadata": {
        "id": "QA-oVp6tMMKH"
      },
      "source": [
        "Мы ожидаем, что для выполнения задания вы будете использовать Python. Ответ на\n",
        "задание лучше всего отправлять в формате jupyter notebook.\n",
        "По срокам выполнения тестового задания мы вас не ограничиваем — вы можете\n",
        "прислать его, когда будете полностью в нем уверены. Как правило, кандидаты\n",
        "справляются с ним за одну рабочую неделю."
      ]
    },
    {
      "cell_type": "code",
      "metadata": {
        "id": "0Kkr8UCoMWpS",
        "colab": {
          "base_uri": "https://localhost:8080/",
          "height": 195
        },
        "outputId": "43ecf44d-ee07-4145-a4f0-df0864bd923a"
      },
      "source": [
        "df.head()"
      ],
      "execution_count": null,
      "outputs": [
        {
          "output_type": "execute_result",
          "data": {
            "text/html": [
              "<div>\n",
              "<style scoped>\n",
              "    .dataframe tbody tr th:only-of-type {\n",
              "        vertical-align: middle;\n",
              "    }\n",
              "\n",
              "    .dataframe tbody tr th {\n",
              "        vertical-align: top;\n",
              "    }\n",
              "\n",
              "    .dataframe thead th {\n",
              "        text-align: right;\n",
              "    }\n",
              "</style>\n",
              "<table border=\"1\" class=\"dataframe\">\n",
              "  <thead>\n",
              "    <tr style=\"text-align: right;\">\n",
              "      <th></th>\n",
              "      <th>uid</th>\n",
              "      <th>action</th>\n",
              "      <th>level</th>\n",
              "      <th>event_time</th>\n",
              "    </tr>\n",
              "  </thead>\n",
              "  <tbody>\n",
              "    <tr>\n",
              "      <th>0</th>\n",
              "      <td>elljQ2EySG03MDU0MTE3MTAyMTE3MA</td>\n",
              "      <td>failed</td>\n",
              "      <td>113</td>\n",
              "      <td>1512086924640</td>\n",
              "    </tr>\n",
              "    <tr>\n",
              "      <th>1</th>\n",
              "      <td>elljQ2EySG03MDU0MTE3MTAyMTE3MA</td>\n",
              "      <td>failed</td>\n",
              "      <td>113</td>\n",
              "      <td>1512086924640</td>\n",
              "    </tr>\n",
              "    <tr>\n",
              "      <th>2</th>\n",
              "      <td>elljQ2EySG03MDU0MTE3MTAyMTE3MA</td>\n",
              "      <td>failed</td>\n",
              "      <td>113</td>\n",
              "      <td>1512086924640</td>\n",
              "    </tr>\n",
              "    <tr>\n",
              "      <th>3</th>\n",
              "      <td>elljQ2EySG03MDU0MTE3MTAyMTE3MA</td>\n",
              "      <td>failed</td>\n",
              "      <td>113</td>\n",
              "      <td>1512086924640</td>\n",
              "    </tr>\n",
              "    <tr>\n",
              "      <th>4</th>\n",
              "      <td>elljQ2EySG03MDU0MTE3MTAyMTE3MA</td>\n",
              "      <td>failed</td>\n",
              "      <td>113</td>\n",
              "      <td>1512086924640</td>\n",
              "    </tr>\n",
              "  </tbody>\n",
              "</table>\n",
              "</div>"
            ],
            "text/plain": [
              "                              uid  action  level     event_time\n",
              "0  elljQ2EySG03MDU0MTE3MTAyMTE3MA  failed    113  1512086924640\n",
              "1  elljQ2EySG03MDU0MTE3MTAyMTE3MA  failed    113  1512086924640\n",
              "2  elljQ2EySG03MDU0MTE3MTAyMTE3MA  failed    113  1512086924640\n",
              "3  elljQ2EySG03MDU0MTE3MTAyMTE3MA  failed    113  1512086924640\n",
              "4  elljQ2EySG03MDU0MTE3MTAyMTE3MA  failed    113  1512086924640"
            ]
          },
          "metadata": {
            "tags": []
          },
          "execution_count": 6
        }
      ]
    },
    {
      "cell_type": "code",
      "metadata": {
        "colab": {
          "base_uri": "https://localhost:8080/"
        },
        "id": "tby48YwWhP73",
        "outputId": "857cd7b5-d792-48f5-b8c9-d9482af93494"
      },
      "source": [
        "df.value_counts('action')"
      ],
      "execution_count": null,
      "outputs": [
        {
          "output_type": "execute_result",
          "data": {
            "text/plain": [
              "action\n",
              "failed       18744535\n",
              "completed     3486679\n",
              "dtype: int64"
            ]
          },
          "metadata": {
            "tags": []
          },
          "execution_count": 7
        }
      ]
    },
    {
      "cell_type": "code",
      "metadata": {
        "id": "zFlofWAShatk"
      },
      "source": [
        "df['action'] = df['action'].replace('failed',1).replace('completed',0)"
      ],
      "execution_count": null,
      "outputs": []
    },
    {
      "cell_type": "markdown",
      "metadata": {
        "id": "OhSxlWV7itxC"
      },
      "source": [
        "# Доля неудачных попыток на каждом уровне"
      ]
    },
    {
      "cell_type": "code",
      "metadata": {
        "colab": {
          "base_uri": "https://localhost:8080/",
          "height": 431
        },
        "id": "pTe4tKYChh8H",
        "outputId": "78c6c0a6-7ba1-4982-8d6b-0ea5094f12d2"
      },
      "source": [
        "df.groupby('level')['action'].agg(['count','mean'])"
      ],
      "execution_count": null,
      "outputs": [
        {
          "output_type": "execute_result",
          "data": {
            "text/html": [
              "<div>\n",
              "<style scoped>\n",
              "    .dataframe tbody tr th:only-of-type {\n",
              "        vertical-align: middle;\n",
              "    }\n",
              "\n",
              "    .dataframe tbody tr th {\n",
              "        vertical-align: top;\n",
              "    }\n",
              "\n",
              "    .dataframe thead th {\n",
              "        text-align: right;\n",
              "    }\n",
              "</style>\n",
              "<table border=\"1\" class=\"dataframe\">\n",
              "  <thead>\n",
              "    <tr style=\"text-align: right;\">\n",
              "      <th></th>\n",
              "      <th>count</th>\n",
              "      <th>mean</th>\n",
              "    </tr>\n",
              "    <tr>\n",
              "      <th>level</th>\n",
              "      <th></th>\n",
              "      <th></th>\n",
              "    </tr>\n",
              "  </thead>\n",
              "  <tbody>\n",
              "    <tr>\n",
              "      <th>1</th>\n",
              "      <td>25157</td>\n",
              "      <td>0.000676</td>\n",
              "    </tr>\n",
              "    <tr>\n",
              "      <th>2</th>\n",
              "      <td>23313</td>\n",
              "      <td>0.037618</td>\n",
              "    </tr>\n",
              "    <tr>\n",
              "      <th>3</th>\n",
              "      <td>23634</td>\n",
              "      <td>0.082381</td>\n",
              "    </tr>\n",
              "    <tr>\n",
              "      <th>4</th>\n",
              "      <td>21636</td>\n",
              "      <td>0.014513</td>\n",
              "    </tr>\n",
              "    <tr>\n",
              "      <th>5</th>\n",
              "      <td>27192</td>\n",
              "      <td>0.236209</td>\n",
              "    </tr>\n",
              "    <tr>\n",
              "      <th>...</th>\n",
              "      <td>...</td>\n",
              "      <td>...</td>\n",
              "    </tr>\n",
              "    <tr>\n",
              "      <th>496</th>\n",
              "      <td>2062</td>\n",
              "      <td>0.796799</td>\n",
              "    </tr>\n",
              "    <tr>\n",
              "      <th>497</th>\n",
              "      <td>1148</td>\n",
              "      <td>0.641986</td>\n",
              "    </tr>\n",
              "    <tr>\n",
              "      <th>498</th>\n",
              "      <td>2409</td>\n",
              "      <td>0.833956</td>\n",
              "    </tr>\n",
              "    <tr>\n",
              "      <th>499</th>\n",
              "      <td>1424</td>\n",
              "      <td>0.714185</td>\n",
              "    </tr>\n",
              "    <tr>\n",
              "      <th>500</th>\n",
              "      <td>3526</td>\n",
              "      <td>0.889393</td>\n",
              "    </tr>\n",
              "  </tbody>\n",
              "</table>\n",
              "<p>500 rows × 2 columns</p>\n",
              "</div>"
            ],
            "text/plain": [
              "       count      mean\n",
              "level                 \n",
              "1      25157  0.000676\n",
              "2      23313  0.037618\n",
              "3      23634  0.082381\n",
              "4      21636  0.014513\n",
              "5      27192  0.236209\n",
              "...      ...       ...\n",
              "496     2062  0.796799\n",
              "497     1148  0.641986\n",
              "498     2409  0.833956\n",
              "499     1424  0.714185\n",
              "500     3526  0.889393\n",
              "\n",
              "[500 rows x 2 columns]"
            ]
          },
          "metadata": {
            "tags": []
          },
          "execution_count": 11
        }
      ]
    },
    {
      "cell_type": "code",
      "metadata": {
        "colab": {
          "base_uri": "https://localhost:8080/",
          "height": 296
        },
        "id": "2w8N7U5-h0IV",
        "outputId": "cdcab63d-18d8-4035-ea46-6a4ace296647"
      },
      "source": [
        "df.groupby('level')['action'].mean().plot()"
      ],
      "execution_count": null,
      "outputs": [
        {
          "output_type": "execute_result",
          "data": {
            "text/plain": [
              "<matplotlib.axes._subplots.AxesSubplot at 0x7f4f1d0b3e10>"
            ]
          },
          "metadata": {
            "tags": []
          },
          "execution_count": 13
        },
        {
          "output_type": "display_data",
          "data": {
            "image/png": "[encoded data removed]",
            "text/plain": [
              "<Figure size 432x288 with 1 Axes>"
            ]
          },
          "metadata": {
            "tags": [],
            "needs_background": "light"
          }
        }
      ]
    },
    {
      "cell_type": "markdown",
      "metadata": {
        "id": "cyzR0qWQh6LH"
      },
      "source": [
        "# Доля игроков которые не прошли уровень с первого раза"
      ]
    },
    {
      "cell_type": "code",
      "metadata": {
        "colab": {
          "base_uri": "https://localhost:8080/",
          "height": 195
        },
        "id": "V6ImwnD5ietC",
        "outputId": "7e6ea6f5-93cd-4100-e341-59c4bb960d9e"
      },
      "source": [
        "df.head()"
      ],
      "execution_count": null,
      "outputs": [
        {
          "output_type": "execute_result",
          "data": {
            "text/html": [
              "<div>\n",
              "<style scoped>\n",
              "    .dataframe tbody tr th:only-of-type {\n",
              "        vertical-align: middle;\n",
              "    }\n",
              "\n",
              "    .dataframe tbody tr th {\n",
              "        vertical-align: top;\n",
              "    }\n",
              "\n",
              "    .dataframe thead th {\n",
              "        text-align: right;\n",
              "    }\n",
              "</style>\n",
              "<table border=\"1\" class=\"dataframe\">\n",
              "  <thead>\n",
              "    <tr style=\"text-align: right;\">\n",
              "      <th></th>\n",
              "      <th>uid</th>\n",
              "      <th>action</th>\n",
              "      <th>level</th>\n",
              "      <th>event_time</th>\n",
              "    </tr>\n",
              "  </thead>\n",
              "  <tbody>\n",
              "    <tr>\n",
              "      <th>0</th>\n",
              "      <td>elljQ2EySG03MDU0MTE3MTAyMTE3MA</td>\n",
              "      <td>1</td>\n",
              "      <td>113</td>\n",
              "      <td>1512086924640</td>\n",
              "    </tr>\n",
              "    <tr>\n",
              "      <th>1</th>\n",
              "      <td>elljQ2EySG03MDU0MTE3MTAyMTE3MA</td>\n",
              "      <td>1</td>\n",
              "      <td>113</td>\n",
              "      <td>1512086924640</td>\n",
              "    </tr>\n",
              "    <tr>\n",
              "      <th>2</th>\n",
              "      <td>elljQ2EySG03MDU0MTE3MTAyMTE3MA</td>\n",
              "      <td>1</td>\n",
              "      <td>113</td>\n",
              "      <td>1512086924640</td>\n",
              "    </tr>\n",
              "    <tr>\n",
              "      <th>3</th>\n",
              "      <td>elljQ2EySG03MDU0MTE3MTAyMTE3MA</td>\n",
              "      <td>1</td>\n",
              "      <td>113</td>\n",
              "      <td>1512086924640</td>\n",
              "    </tr>\n",
              "    <tr>\n",
              "      <th>4</th>\n",
              "      <td>elljQ2EySG03MDU0MTE3MTAyMTE3MA</td>\n",
              "      <td>1</td>\n",
              "      <td>113</td>\n",
              "      <td>1512086924640</td>\n",
              "    </tr>\n",
              "  </tbody>\n",
              "</table>\n",
              "</div>"
            ],
            "text/plain": [
              "                              uid  action  level     event_time\n",
              "0  elljQ2EySG03MDU0MTE3MTAyMTE3MA       1    113  1512086924640\n",
              "1  elljQ2EySG03MDU0MTE3MTAyMTE3MA       1    113  1512086924640\n",
              "2  elljQ2EySG03MDU0MTE3MTAyMTE3MA       1    113  1512086924640\n",
              "3  elljQ2EySG03MDU0MTE3MTAyMTE3MA       1    113  1512086924640\n",
              "4  elljQ2EySG03MDU0MTE3MTAyMTE3MA       1    113  1512086924640"
            ]
          },
          "metadata": {
            "tags": []
          },
          "execution_count": 14
        }
      ]
    },
    {
      "cell_type": "code",
      "metadata": {
        "id": "EB73jU7Hi1jM"
      },
      "source": [
        "t = df[df['level'] == 113].copy()"
      ],
      "execution_count": null,
      "outputs": []
    },
    {
      "cell_type": "code",
      "metadata": {
        "id": "Xblx4WNtjHjr"
      },
      "source": [
        "t['rnk'] = t.sort_values('event_time').groupby(['level','uid'])['event_time'].rank(method='first')"
      ],
      "execution_count": null,
      "outputs": []
    },
    {
      "cell_type": "code",
      "metadata": {
        "colab": {
          "base_uri": "https://localhost:8080/",
          "height": 402
        },
        "id": "jzSZ_UMrjND8",
        "outputId": "a2e6bb89-1a1b-4be7-ab28-3c62582dadb3"
      },
      "source": [
        "t[t['rnk'] == 1]"
      ],
      "execution_count": null,
      "outputs": [
        {
          "output_type": "execute_result",
          "data": {
            "text/html": [
              "<div>\n",
              "<style scoped>\n",
              "    .dataframe tbody tr th:only-of-type {\n",
              "        vertical-align: middle;\n",
              "    }\n",
              "\n",
              "    .dataframe tbody tr th {\n",
              "        vertical-align: top;\n",
              "    }\n",
              "\n",
              "    .dataframe thead th {\n",
              "        text-align: right;\n",
              "    }\n",
              "</style>\n",
              "<table border=\"1\" class=\"dataframe\">\n",
              "  <thead>\n",
              "    <tr style=\"text-align: right;\">\n",
              "      <th></th>\n",
              "      <th>uid</th>\n",
              "      <th>action</th>\n",
              "      <th>level</th>\n",
              "      <th>event_time</th>\n",
              "      <th>rnk</th>\n",
              "    </tr>\n",
              "  </thead>\n",
              "  <tbody>\n",
              "    <tr>\n",
              "      <th>0</th>\n",
              "      <td>elljQ2EySG03MDU0MTE3MTAyMTE3MA</td>\n",
              "      <td>1</td>\n",
              "      <td>113</td>\n",
              "      <td>1512086924640</td>\n",
              "      <td>1.0</td>\n",
              "    </tr>\n",
              "    <tr>\n",
              "      <th>426</th>\n",
              "      <td>RE9iT0VkMmkwMjUwMTI3MTAyMDE4MA</td>\n",
              "      <td>1</td>\n",
              "      <td>113</td>\n",
              "      <td>1512146434418</td>\n",
              "      <td>1.0</td>\n",
              "    </tr>\n",
              "    <tr>\n",
              "      <th>1354</th>\n",
              "      <td>cDBlZlZuRjAwMzU1NDE3MTAyMTE4Mg</td>\n",
              "      <td>1</td>\n",
              "      <td>113</td>\n",
              "      <td>1512096831695</td>\n",
              "      <td>1.0</td>\n",
              "    </tr>\n",
              "    <tr>\n",
              "      <th>1612</th>\n",
              "      <td>a2FqVG5mcTQyMjcwODA3MTAyOTA4Mg</td>\n",
              "      <td>0</td>\n",
              "      <td>113</td>\n",
              "      <td>1512097744297</td>\n",
              "      <td>1.0</td>\n",
              "    </tr>\n",
              "    <tr>\n",
              "      <th>3271</th>\n",
              "      <td>WHNRT1ZPTzQ2MzIzOTA3MTAyMDE0MQ</td>\n",
              "      <td>0</td>\n",
              "      <td>113</td>\n",
              "      <td>1512136177025</td>\n",
              "      <td>1.0</td>\n",
              "    </tr>\n",
              "    <tr>\n",
              "      <th>...</th>\n",
              "      <td>...</td>\n",
              "      <td>...</td>\n",
              "      <td>...</td>\n",
              "      <td>...</td>\n",
              "      <td>...</td>\n",
              "    </tr>\n",
              "    <tr>\n",
              "      <th>22226613</th>\n",
              "      <td>Z0pxTkk3T2w4MTUxNjE3MTAyMTEyMg</td>\n",
              "      <td>1</td>\n",
              "      <td>113</td>\n",
              "      <td>1514188686859</td>\n",
              "      <td>1.0</td>\n",
              "    </tr>\n",
              "    <tr>\n",
              "      <th>22227559</th>\n",
              "      <td>THZIYXZVaU01MjgyMTE3MTAyMTEzMA</td>\n",
              "      <td>1</td>\n",
              "      <td>113</td>\n",
              "      <td>1514204444724</td>\n",
              "      <td>1.0</td>\n",
              "    </tr>\n",
              "    <tr>\n",
              "      <th>22227810</th>\n",
              "      <td>SzJvRXcxOEIwMzk0MjE3MTAyOTA4Mg</td>\n",
              "      <td>1</td>\n",
              "      <td>113</td>\n",
              "      <td>1514230050322</td>\n",
              "      <td>1.0</td>\n",
              "    </tr>\n",
              "    <tr>\n",
              "      <th>22228410</th>\n",
              "      <td>NGtWM2pCaG43MTI1NDE3MTAyOTAwMw</td>\n",
              "      <td>1</td>\n",
              "      <td>113</td>\n",
              "      <td>1514203803703</td>\n",
              "      <td>1.0</td>\n",
              "    </tr>\n",
              "    <tr>\n",
              "      <th>22229183</th>\n",
              "      <td>aVhaY3RjZEY1MDQzMDI3MTAyMTE0MQ</td>\n",
              "      <td>1</td>\n",
              "      <td>113</td>\n",
              "      <td>1514207760591</td>\n",
              "      <td>1.0</td>\n",
              "    </tr>\n",
              "  </tbody>\n",
              "</table>\n",
              "<p>17278 rows × 5 columns</p>\n",
              "</div>"
            ],
            "text/plain": [
              "                                     uid  action  level     event_time  rnk\n",
              "0         elljQ2EySG03MDU0MTE3MTAyMTE3MA       1    113  1512086924640  1.0\n",
              "426       RE9iT0VkMmkwMjUwMTI3MTAyMDE4MA       1    113  1512146434418  1.0\n",
              "1354      cDBlZlZuRjAwMzU1NDE3MTAyMTE4Mg       1    113  1512096831695  1.0\n",
              "1612      a2FqVG5mcTQyMjcwODA3MTAyOTA4Mg       0    113  1512097744297  1.0\n",
              "3271      WHNRT1ZPTzQ2MzIzOTA3MTAyMDE0MQ       0    113  1512136177025  1.0\n",
              "...                                  ...     ...    ...            ...  ...\n",
              "22226613  Z0pxTkk3T2w4MTUxNjE3MTAyMTEyMg       1    113  1514188686859  1.0\n",
              "22227559  THZIYXZVaU01MjgyMTE3MTAyMTEzMA       1    113  1514204444724  1.0\n",
              "22227810  SzJvRXcxOEIwMzk0MjE3MTAyOTA4Mg       1    113  1514230050322  1.0\n",
              "22228410  NGtWM2pCaG43MTI1NDE3MTAyOTAwMw       1    113  1514203803703  1.0\n",
              "22229183  aVhaY3RjZEY1MDQzMDI3MTAyMTE0MQ       1    113  1514207760591  1.0\n",
              "\n",
              "[17278 rows x 5 columns]"
            ]
          },
          "metadata": {
            "tags": []
          },
          "execution_count": 28
        }
      ]
    },
    {
      "cell_type": "code",
      "metadata": {
        "id": "ZU4c7oaAj9P5"
      },
      "source": [
        "tt = t.sort_values('event_time').groupby(['level','uid'])[['event_time','action']].first().reset_index()"
      ],
      "execution_count": null,
      "outputs": []
    },
    {
      "cell_type": "code",
      "metadata": {
        "colab": {
          "base_uri": "https://localhost:8080/",
          "height": 77
        },
        "id": "BnigZijLkPnm",
        "outputId": "8a63d74c-eadd-4698-83b0-969f55787ede"
      },
      "source": [
        "tt[tt['uid'] == 'M000Y3dYeUUyMjIxODE3MTAyOTAwMQ']"
      ],
      "execution_count": null,
      "outputs": [
        {
          "output_type": "execute_result",
          "data": {
            "text/html": [
              "<div>\n",
              "<style scoped>\n",
              "    .dataframe tbody tr th:only-of-type {\n",
              "        vertical-align: middle;\n",
              "    }\n",
              "\n",
              "    .dataframe tbody tr th {\n",
              "        vertical-align: top;\n",
              "    }\n",
              "\n",
              "    .dataframe thead th {\n",
              "        text-align: right;\n",
              "    }\n",
              "</style>\n",
              "<table border=\"1\" class=\"dataframe\">\n",
              "  <thead>\n",
              "    <tr style=\"text-align: right;\">\n",
              "      <th></th>\n",
              "      <th>level</th>\n",
              "      <th>uid</th>\n",
              "      <th>event_time</th>\n",
              "      <th>action</th>\n",
              "    </tr>\n",
              "  </thead>\n",
              "  <tbody>\n",
              "    <tr>\n",
              "      <th>0</th>\n",
              "      <td>113</td>\n",
              "      <td>M000Y3dYeUUyMjIxODE3MTAyOTAwMQ</td>\n",
              "      <td>1513482740555</td>\n",
              "      <td>1</td>\n",
              "    </tr>\n",
              "  </tbody>\n",
              "</table>\n",
              "</div>"
            ],
            "text/plain": [
              "   level                             uid     event_time  action\n",
              "0    113  M000Y3dYeUUyMjIxODE3MTAyOTAwMQ  1513482740555       1"
            ]
          },
          "metadata": {
            "tags": []
          },
          "execution_count": 34
        }
      ]
    },
    {
      "cell_type": "code",
      "metadata": {
        "colab": {
          "base_uri": "https://localhost:8080/",
          "height": 77
        },
        "id": "RbWbwiSgkoNn",
        "outputId": "46141596-25e5-4268-9855-ff1008c300ad"
      },
      "source": [
        "t[(t['rnk'] == 1)&(t['uid']=='M000Y3dYeUUyMjIxODE3MTAyOTAwMQ')]"
      ],
      "execution_count": null,
      "outputs": [
        {
          "output_type": "execute_result",
          "data": {
            "text/html": [
              "<div>\n",
              "<style scoped>\n",
              "    .dataframe tbody tr th:only-of-type {\n",
              "        vertical-align: middle;\n",
              "    }\n",
              "\n",
              "    .dataframe tbody tr th {\n",
              "        vertical-align: top;\n",
              "    }\n",
              "\n",
              "    .dataframe thead th {\n",
              "        text-align: right;\n",
              "    }\n",
              "</style>\n",
              "<table border=\"1\" class=\"dataframe\">\n",
              "  <thead>\n",
              "    <tr style=\"text-align: right;\">\n",
              "      <th></th>\n",
              "      <th>uid</th>\n",
              "      <th>action</th>\n",
              "      <th>level</th>\n",
              "      <th>event_time</th>\n",
              "      <th>rnk</th>\n",
              "    </tr>\n",
              "  </thead>\n",
              "  <tbody>\n",
              "    <tr>\n",
              "      <th>10987832</th>\n",
              "      <td>M000Y3dYeUUyMjIxODE3MTAyOTAwMQ</td>\n",
              "      <td>1</td>\n",
              "      <td>113</td>\n",
              "      <td>1513482740555</td>\n",
              "      <td>1.0</td>\n",
              "    </tr>\n",
              "  </tbody>\n",
              "</table>\n",
              "</div>"
            ],
            "text/plain": [
              "                                     uid  action  level     event_time  rnk\n",
              "10987832  M000Y3dYeUUyMjIxODE3MTAyOTAwMQ       1    113  1513482740555  1.0"
            ]
          },
          "metadata": {
            "tags": []
          },
          "execution_count": 35
        }
      ]
    },
    {
      "cell_type": "code",
      "metadata": {
        "colab": {
          "base_uri": "https://localhost:8080/",
          "height": 521
        },
        "id": "gcKWCoAIk3BJ",
        "outputId": "43b30790-17bf-4471-fd5a-2250cfcdcf88"
      },
      "source": [
        "t[t['uid']=='M000Y3dYeUUyMjIxODE3MTAyOTAwMQ'].sort_values('event_time')"
      ],
      "execution_count": null,
      "outputs": [
        {
          "output_type": "execute_result",
          "data": {
            "text/html": [
              "<div>\n",
              "<style scoped>\n",
              "    .dataframe tbody tr th:only-of-type {\n",
              "        vertical-align: middle;\n",
              "    }\n",
              "\n",
              "    .dataframe tbody tr th {\n",
              "        vertical-align: top;\n",
              "    }\n",
              "\n",
              "    .dataframe thead th {\n",
              "        text-align: right;\n",
              "    }\n",
              "</style>\n",
              "<table border=\"1\" class=\"dataframe\">\n",
              "  <thead>\n",
              "    <tr style=\"text-align: right;\">\n",
              "      <th></th>\n",
              "      <th>uid</th>\n",
              "      <th>action</th>\n",
              "      <th>level</th>\n",
              "      <th>event_time</th>\n",
              "      <th>rnk</th>\n",
              "    </tr>\n",
              "  </thead>\n",
              "  <tbody>\n",
              "    <tr>\n",
              "      <th>10987828</th>\n",
              "      <td>M000Y3dYeUUyMjIxODE3MTAyOTAwMQ</td>\n",
              "      <td>1</td>\n",
              "      <td>113</td>\n",
              "      <td>1513482740555</td>\n",
              "      <td>5.0</td>\n",
              "    </tr>\n",
              "    <tr>\n",
              "      <th>10987829</th>\n",
              "      <td>M000Y3dYeUUyMjIxODE3MTAyOTAwMQ</td>\n",
              "      <td>1</td>\n",
              "      <td>113</td>\n",
              "      <td>1513482740555</td>\n",
              "      <td>4.0</td>\n",
              "    </tr>\n",
              "    <tr>\n",
              "      <th>10987830</th>\n",
              "      <td>M000Y3dYeUUyMjIxODE3MTAyOTAwMQ</td>\n",
              "      <td>1</td>\n",
              "      <td>113</td>\n",
              "      <td>1513482740555</td>\n",
              "      <td>3.0</td>\n",
              "    </tr>\n",
              "    <tr>\n",
              "      <th>10987831</th>\n",
              "      <td>M000Y3dYeUUyMjIxODE3MTAyOTAwMQ</td>\n",
              "      <td>1</td>\n",
              "      <td>113</td>\n",
              "      <td>1513482740555</td>\n",
              "      <td>2.0</td>\n",
              "    </tr>\n",
              "    <tr>\n",
              "      <th>10987832</th>\n",
              "      <td>M000Y3dYeUUyMjIxODE3MTAyOTAwMQ</td>\n",
              "      <td>1</td>\n",
              "      <td>113</td>\n",
              "      <td>1513482740555</td>\n",
              "      <td>1.0</td>\n",
              "    </tr>\n",
              "    <tr>\n",
              "      <th>10987836</th>\n",
              "      <td>M000Y3dYeUUyMjIxODE3MTAyOTAwMQ</td>\n",
              "      <td>1</td>\n",
              "      <td>113</td>\n",
              "      <td>1513540538178</td>\n",
              "      <td>7.0</td>\n",
              "    </tr>\n",
              "    <tr>\n",
              "      <th>10987837</th>\n",
              "      <td>M000Y3dYeUUyMjIxODE3MTAyOTAwMQ</td>\n",
              "      <td>1</td>\n",
              "      <td>113</td>\n",
              "      <td>1513540538178</td>\n",
              "      <td>6.0</td>\n",
              "    </tr>\n",
              "    <tr>\n",
              "      <th>10987838</th>\n",
              "      <td>M000Y3dYeUUyMjIxODE3MTAyOTAwMQ</td>\n",
              "      <td>1</td>\n",
              "      <td>113</td>\n",
              "      <td>1513542854279</td>\n",
              "      <td>8.0</td>\n",
              "    </tr>\n",
              "    <tr>\n",
              "      <th>10987839</th>\n",
              "      <td>M000Y3dYeUUyMjIxODE3MTAyOTAwMQ</td>\n",
              "      <td>1</td>\n",
              "      <td>113</td>\n",
              "      <td>1513542854279</td>\n",
              "      <td>10.0</td>\n",
              "    </tr>\n",
              "    <tr>\n",
              "      <th>10987840</th>\n",
              "      <td>M000Y3dYeUUyMjIxODE3MTAyOTAwMQ</td>\n",
              "      <td>1</td>\n",
              "      <td>113</td>\n",
              "      <td>1513542854279</td>\n",
              "      <td>9.0</td>\n",
              "    </tr>\n",
              "    <tr>\n",
              "      <th>10987841</th>\n",
              "      <td>M000Y3dYeUUyMjIxODE3MTAyOTAwMQ</td>\n",
              "      <td>1</td>\n",
              "      <td>113</td>\n",
              "      <td>1513547997358</td>\n",
              "      <td>11.0</td>\n",
              "    </tr>\n",
              "    <tr>\n",
              "      <th>10987842</th>\n",
              "      <td>M000Y3dYeUUyMjIxODE3MTAyOTAwMQ</td>\n",
              "      <td>1</td>\n",
              "      <td>113</td>\n",
              "      <td>1513547997358</td>\n",
              "      <td>12.0</td>\n",
              "    </tr>\n",
              "    <tr>\n",
              "      <th>10987843</th>\n",
              "      <td>M000Y3dYeUUyMjIxODE3MTAyOTAwMQ</td>\n",
              "      <td>1</td>\n",
              "      <td>113</td>\n",
              "      <td>1513547997358</td>\n",
              "      <td>13.0</td>\n",
              "    </tr>\n",
              "    <tr>\n",
              "      <th>10987833</th>\n",
              "      <td>M000Y3dYeUUyMjIxODE3MTAyOTAwMQ</td>\n",
              "      <td>1</td>\n",
              "      <td>113</td>\n",
              "      <td>1513553908542</td>\n",
              "      <td>14.0</td>\n",
              "    </tr>\n",
              "    <tr>\n",
              "      <th>10987834</th>\n",
              "      <td>M000Y3dYeUUyMjIxODE3MTAyOTAwMQ</td>\n",
              "      <td>1</td>\n",
              "      <td>113</td>\n",
              "      <td>1513553908542</td>\n",
              "      <td>16.0</td>\n",
              "    </tr>\n",
              "    <tr>\n",
              "      <th>10987835</th>\n",
              "      <td>M000Y3dYeUUyMjIxODE3MTAyOTAwMQ</td>\n",
              "      <td>1</td>\n",
              "      <td>113</td>\n",
              "      <td>1513553908542</td>\n",
              "      <td>15.0</td>\n",
              "    </tr>\n",
              "  </tbody>\n",
              "</table>\n",
              "</div>"
            ],
            "text/plain": [
              "                                     uid  action  level     event_time   rnk\n",
              "10987828  M000Y3dYeUUyMjIxODE3MTAyOTAwMQ       1    113  1513482740555   5.0\n",
              "10987829  M000Y3dYeUUyMjIxODE3MTAyOTAwMQ       1    113  1513482740555   4.0\n",
              "10987830  M000Y3dYeUUyMjIxODE3MTAyOTAwMQ       1    113  1513482740555   3.0\n",
              "10987831  M000Y3dYeUUyMjIxODE3MTAyOTAwMQ       1    113  1513482740555   2.0\n",
              "10987832  M000Y3dYeUUyMjIxODE3MTAyOTAwMQ       1    113  1513482740555   1.0\n",
              "10987836  M000Y3dYeUUyMjIxODE3MTAyOTAwMQ       1    113  1513540538178   7.0\n",
              "10987837  M000Y3dYeUUyMjIxODE3MTAyOTAwMQ       1    113  1513540538178   6.0\n",
              "10987838  M000Y3dYeUUyMjIxODE3MTAyOTAwMQ       1    113  1513542854279   8.0\n",
              "10987839  M000Y3dYeUUyMjIxODE3MTAyOTAwMQ       1    113  1513542854279  10.0\n",
              "10987840  M000Y3dYeUUyMjIxODE3MTAyOTAwMQ       1    113  1513542854279   9.0\n",
              "10987841  M000Y3dYeUUyMjIxODE3MTAyOTAwMQ       1    113  1513547997358  11.0\n",
              "10987842  M000Y3dYeUUyMjIxODE3MTAyOTAwMQ       1    113  1513547997358  12.0\n",
              "10987843  M000Y3dYeUUyMjIxODE3MTAyOTAwMQ       1    113  1513547997358  13.0\n",
              "10987833  M000Y3dYeUUyMjIxODE3MTAyOTAwMQ       1    113  1513553908542  14.0\n",
              "10987834  M000Y3dYeUUyMjIxODE3MTAyOTAwMQ       1    113  1513553908542  16.0\n",
              "10987835  M000Y3dYeUUyMjIxODE3MTAyOTAwMQ       1    113  1513553908542  15.0"
            ]
          },
          "metadata": {
            "tags": []
          },
          "execution_count": 38
        }
      ]
    },
    {
      "cell_type": "code",
      "metadata": {
        "colab": {
          "base_uri": "https://localhost:8080/"
        },
        "id": "KnMos3p7lM-F",
        "outputId": "5005cb26-a02f-47a0-fb0d-a9069c5cd597"
      },
      "source": [
        "len(df)"
      ],
      "execution_count": null,
      "outputs": [
        {
          "output_type": "execute_result",
          "data": {
            "text/plain": [
              "22231214"
            ]
          },
          "metadata": {
            "tags": []
          },
          "execution_count": 39
        }
      ]
    },
    {
      "cell_type": "code",
      "metadata": {
        "colab": {
          "base_uri": "https://localhost:8080/"
        },
        "id": "8uEoopVClbsL",
        "outputId": "824823ab-9d60-4be6-dadc-31a9e66c6dae"
      },
      "source": [
        "len(df.drop_duplicates())"
      ],
      "execution_count": null,
      "outputs": [
        {
          "output_type": "execute_result",
          "data": {
            "text/plain": [
              "10387712"
            ]
          },
          "metadata": {
            "tags": []
          },
          "execution_count": 40
        }
      ]
    },
    {
      "cell_type": "code",
      "metadata": {
        "colab": {
          "base_uri": "https://localhost:8080/",
          "height": 195
        },
        "id": "d0OKQTy5ldPo",
        "outputId": "339710d3-7cac-411f-e222-284301fde4d3"
      },
      "source": [
        "df.head()"
      ],
      "execution_count": null,
      "outputs": [
        {
          "output_type": "execute_result",
          "data": {
            "text/html": [
              "<div>\n",
              "<style scoped>\n",
              "    .dataframe tbody tr th:only-of-type {\n",
              "        vertical-align: middle;\n",
              "    }\n",
              "\n",
              "    .dataframe tbody tr th {\n",
              "        vertical-align: top;\n",
              "    }\n",
              "\n",
              "    .dataframe thead th {\n",
              "        text-align: right;\n",
              "    }\n",
              "</style>\n",
              "<table border=\"1\" class=\"dataframe\">\n",
              "  <thead>\n",
              "    <tr style=\"text-align: right;\">\n",
              "      <th></th>\n",
              "      <th>uid</th>\n",
              "      <th>action</th>\n",
              "      <th>level</th>\n",
              "      <th>event_time</th>\n",
              "    </tr>\n",
              "  </thead>\n",
              "  <tbody>\n",
              "    <tr>\n",
              "      <th>0</th>\n",
              "      <td>elljQ2EySG03MDU0MTE3MTAyMTE3MA</td>\n",
              "      <td>1</td>\n",
              "      <td>113</td>\n",
              "      <td>1512086924640</td>\n",
              "    </tr>\n",
              "    <tr>\n",
              "      <th>1</th>\n",
              "      <td>elljQ2EySG03MDU0MTE3MTAyMTE3MA</td>\n",
              "      <td>1</td>\n",
              "      <td>113</td>\n",
              "      <td>1512086924640</td>\n",
              "    </tr>\n",
              "    <tr>\n",
              "      <th>2</th>\n",
              "      <td>elljQ2EySG03MDU0MTE3MTAyMTE3MA</td>\n",
              "      <td>1</td>\n",
              "      <td>113</td>\n",
              "      <td>1512086924640</td>\n",
              "    </tr>\n",
              "    <tr>\n",
              "      <th>3</th>\n",
              "      <td>elljQ2EySG03MDU0MTE3MTAyMTE3MA</td>\n",
              "      <td>1</td>\n",
              "      <td>113</td>\n",
              "      <td>1512086924640</td>\n",
              "    </tr>\n",
              "    <tr>\n",
              "      <th>4</th>\n",
              "      <td>elljQ2EySG03MDU0MTE3MTAyMTE3MA</td>\n",
              "      <td>1</td>\n",
              "      <td>113</td>\n",
              "      <td>1512086924640</td>\n",
              "    </tr>\n",
              "  </tbody>\n",
              "</table>\n",
              "</div>"
            ],
            "text/plain": [
              "                              uid  action  level     event_time\n",
              "0  elljQ2EySG03MDU0MTE3MTAyMTE3MA       1    113  1512086924640\n",
              "1  elljQ2EySG03MDU0MTE3MTAyMTE3MA       1    113  1512086924640\n",
              "2  elljQ2EySG03MDU0MTE3MTAyMTE3MA       1    113  1512086924640\n",
              "3  elljQ2EySG03MDU0MTE3MTAyMTE3MA       1    113  1512086924640\n",
              "4  elljQ2EySG03MDU0MTE3MTAyMTE3MA       1    113  1512086924640"
            ]
          },
          "metadata": {
            "tags": []
          },
          "execution_count": 41
        }
      ]
    },
    {
      "cell_type": "code",
      "metadata": {
        "colab": {
          "base_uri": "https://localhost:8080/"
        },
        "id": "TakP7fgnmNq_",
        "outputId": "1d1473b3-f9aa-4d47-d812-e5ef2e9414b5"
      },
      "source": [
        "df.columns"
      ],
      "execution_count": null,
      "outputs": [
        {
          "output_type": "execute_result",
          "data": {
            "text/plain": [
              "Index(['uid', 'action', 'level', 'event_time'], dtype='object')"
            ]
          },
          "metadata": {
            "tags": []
          },
          "execution_count": 44
        }
      ]
    },
    {
      "cell_type": "code",
      "metadata": {
        "id": "5oTWhYoul336"
      },
      "source": [
        "df = df.groupby(['uid', 'action', 'level', 'event_time'])['uid'].count()"
      ],
      "execution_count": null,
      "outputs": []
    },
    {
      "cell_type": "code",
      "metadata": {
        "id": "eHOYeHVPmL1v"
      },
      "source": [
        "df.name = 'count'"
      ],
      "execution_count": null,
      "outputs": []
    },
    {
      "cell_type": "code",
      "metadata": {
        "id": "nWHT9ZThmcw3"
      },
      "source": [
        "df = df.reset_index()"
      ],
      "execution_count": null,
      "outputs": []
    },
    {
      "cell_type": "code",
      "metadata": {
        "colab": {
          "base_uri": "https://localhost:8080/",
          "height": 195
        },
        "id": "I5tVyVHMnCGB",
        "outputId": "c08d30a9-f209-45f1-94dd-9b0d7a43b46d"
      },
      "source": [
        "df.head()"
      ],
      "execution_count": null,
      "outputs": [
        {
          "output_type": "execute_result",
          "data": {
            "text/html": [
              "<div>\n",
              "<style scoped>\n",
              "    .dataframe tbody tr th:only-of-type {\n",
              "        vertical-align: middle;\n",
              "    }\n",
              "\n",
              "    .dataframe tbody tr th {\n",
              "        vertical-align: top;\n",
              "    }\n",
              "\n",
              "    .dataframe thead th {\n",
              "        text-align: right;\n",
              "    }\n",
              "</style>\n",
              "<table border=\"1\" class=\"dataframe\">\n",
              "  <thead>\n",
              "    <tr style=\"text-align: right;\">\n",
              "      <th></th>\n",
              "      <th>uid</th>\n",
              "      <th>action</th>\n",
              "      <th>level</th>\n",
              "      <th>event_time</th>\n",
              "      <th>count</th>\n",
              "    </tr>\n",
              "  </thead>\n",
              "  <tbody>\n",
              "    <tr>\n",
              "      <th>0</th>\n",
              "      <td>M000MjVPdEM0MzMzNzA3MTAyMDE5MQ</td>\n",
              "      <td>1</td>\n",
              "      <td>95</td>\n",
              "      <td>1513224808476</td>\n",
              "      <td>5</td>\n",
              "    </tr>\n",
              "    <tr>\n",
              "      <th>1</th>\n",
              "      <td>M000MjVPdEM0MzMzNzA3MTAyMDE5MQ</td>\n",
              "      <td>1</td>\n",
              "      <td>95</td>\n",
              "      <td>1513253353017</td>\n",
              "      <td>1</td>\n",
              "    </tr>\n",
              "    <tr>\n",
              "      <th>2</th>\n",
              "      <td>M000MjVPdEM0MzMzNzA3MTAyMDE5MQ</td>\n",
              "      <td>1</td>\n",
              "      <td>95</td>\n",
              "      <td>1513253543747</td>\n",
              "      <td>2</td>\n",
              "    </tr>\n",
              "    <tr>\n",
              "      <th>3</th>\n",
              "      <td>M000MjVPdEM0MzMzNzA3MTAyMDE5MQ</td>\n",
              "      <td>1</td>\n",
              "      <td>95</td>\n",
              "      <td>1513261453988</td>\n",
              "      <td>6</td>\n",
              "    </tr>\n",
              "    <tr>\n",
              "      <th>4</th>\n",
              "      <td>M000Y3dYeUUyMjIxODE3MTAyOTAwMQ</td>\n",
              "      <td>0</td>\n",
              "      <td>90</td>\n",
              "      <td>1512249715495</td>\n",
              "      <td>1</td>\n",
              "    </tr>\n",
              "  </tbody>\n",
              "</table>\n",
              "</div>"
            ],
            "text/plain": [
              "                              uid  action  level     event_time  count\n",
              "0  M000MjVPdEM0MzMzNzA3MTAyMDE5MQ       1     95  1513224808476      5\n",
              "1  M000MjVPdEM0MzMzNzA3MTAyMDE5MQ       1     95  1513253353017      1\n",
              "2  M000MjVPdEM0MzMzNzA3MTAyMDE5MQ       1     95  1513253543747      2\n",
              "3  M000MjVPdEM0MzMzNzA3MTAyMDE5MQ       1     95  1513261453988      6\n",
              "4  M000Y3dYeUUyMjIxODE3MTAyOTAwMQ       0     90  1512249715495      1"
            ]
          },
          "metadata": {
            "tags": []
          },
          "execution_count": 55
        }
      ]
    },
    {
      "cell_type": "code",
      "metadata": {
        "colab": {
          "base_uri": "https://localhost:8080/",
          "height": 195
        },
        "id": "24qHfzcgnMmc",
        "outputId": "1ee21387-75c0-4e1b-bb1b-985998de8c07"
      },
      "source": [
        "df[(df['uid']=='M000Y3dYeUUyMjIxODE3MTAyOTAwMQ')&(df['level']==113)].sort_values('event_time')"
      ],
      "execution_count": null,
      "outputs": [
        {
          "output_type": "execute_result",
          "data": {
            "text/html": [
              "<div>\n",
              "<style scoped>\n",
              "    .dataframe tbody tr th:only-of-type {\n",
              "        vertical-align: middle;\n",
              "    }\n",
              "\n",
              "    .dataframe tbody tr th {\n",
              "        vertical-align: top;\n",
              "    }\n",
              "\n",
              "    .dataframe thead th {\n",
              "        text-align: right;\n",
              "    }\n",
              "</style>\n",
              "<table border=\"1\" class=\"dataframe\">\n",
              "  <thead>\n",
              "    <tr style=\"text-align: right;\">\n",
              "      <th></th>\n",
              "      <th>uid</th>\n",
              "      <th>action</th>\n",
              "      <th>level</th>\n",
              "      <th>event_time</th>\n",
              "      <th>count</th>\n",
              "    </tr>\n",
              "  </thead>\n",
              "  <tbody>\n",
              "    <tr>\n",
              "      <th>76</th>\n",
              "      <td>M000Y3dYeUUyMjIxODE3MTAyOTAwMQ</td>\n",
              "      <td>1</td>\n",
              "      <td>113</td>\n",
              "      <td>1513482740555</td>\n",
              "      <td>5</td>\n",
              "    </tr>\n",
              "    <tr>\n",
              "      <th>77</th>\n",
              "      <td>M000Y3dYeUUyMjIxODE3MTAyOTAwMQ</td>\n",
              "      <td>1</td>\n",
              "      <td>113</td>\n",
              "      <td>1513540538178</td>\n",
              "      <td>2</td>\n",
              "    </tr>\n",
              "    <tr>\n",
              "      <th>78</th>\n",
              "      <td>M000Y3dYeUUyMjIxODE3MTAyOTAwMQ</td>\n",
              "      <td>1</td>\n",
              "      <td>113</td>\n",
              "      <td>1513542854279</td>\n",
              "      <td>3</td>\n",
              "    </tr>\n",
              "    <tr>\n",
              "      <th>79</th>\n",
              "      <td>M000Y3dYeUUyMjIxODE3MTAyOTAwMQ</td>\n",
              "      <td>1</td>\n",
              "      <td>113</td>\n",
              "      <td>1513547997358</td>\n",
              "      <td>3</td>\n",
              "    </tr>\n",
              "    <tr>\n",
              "      <th>80</th>\n",
              "      <td>M000Y3dYeUUyMjIxODE3MTAyOTAwMQ</td>\n",
              "      <td>1</td>\n",
              "      <td>113</td>\n",
              "      <td>1513553908542</td>\n",
              "      <td>3</td>\n",
              "    </tr>\n",
              "  </tbody>\n",
              "</table>\n",
              "</div>"
            ],
            "text/plain": [
              "                               uid  action  level     event_time  count\n",
              "76  M000Y3dYeUUyMjIxODE3MTAyOTAwMQ       1    113  1513482740555      5\n",
              "77  M000Y3dYeUUyMjIxODE3MTAyOTAwMQ       1    113  1513540538178      2\n",
              "78  M000Y3dYeUUyMjIxODE3MTAyOTAwMQ       1    113  1513542854279      3\n",
              "79  M000Y3dYeUUyMjIxODE3MTAyOTAwMQ       1    113  1513547997358      3\n",
              "80  M000Y3dYeUUyMjIxODE3MTAyOTAwMQ       1    113  1513553908542      3"
            ]
          },
          "metadata": {
            "tags": []
          },
          "execution_count": 60
        }
      ]
    },
    {
      "cell_type": "code",
      "metadata": {
        "id": "IB64I5bgnU7-"
      },
      "source": [
        "t = df.sort_values(['level','uid','event_time']).groupby(['level','uid']).first().reset_index()"
      ],
      "execution_count": null,
      "outputs": []
    },
    {
      "cell_type": "code",
      "metadata": {
        "colab": {
          "base_uri": "https://localhost:8080/",
          "height": 77
        },
        "id": "behEgLxyoEBo",
        "outputId": "d23e86e8-c596-40fb-eccd-e79840bfd14b"
      },
      "source": [
        "t[(t['uid']=='M000Y3dYeUUyMjIxODE3MTAyOTAwMQ')&(t['level']==113)].sort_values('event_time')"
      ],
      "execution_count": null,
      "outputs": [
        {
          "output_type": "execute_result",
          "data": {
            "text/html": [
              "<div>\n",
              "<style scoped>\n",
              "    .dataframe tbody tr th:only-of-type {\n",
              "        vertical-align: middle;\n",
              "    }\n",
              "\n",
              "    .dataframe tbody tr th {\n",
              "        vertical-align: top;\n",
              "    }\n",
              "\n",
              "    .dataframe thead th {\n",
              "        text-align: right;\n",
              "    }\n",
              "</style>\n",
              "<table border=\"1\" class=\"dataframe\">\n",
              "  <thead>\n",
              "    <tr style=\"text-align: right;\">\n",
              "      <th></th>\n",
              "      <th>level</th>\n",
              "      <th>uid</th>\n",
              "      <th>action</th>\n",
              "      <th>event_time</th>\n",
              "      <th>count</th>\n",
              "    </tr>\n",
              "  </thead>\n",
              "  <tbody>\n",
              "    <tr>\n",
              "      <th>1838469</th>\n",
              "      <td>113</td>\n",
              "      <td>M000Y3dYeUUyMjIxODE3MTAyOTAwMQ</td>\n",
              "      <td>1</td>\n",
              "      <td>1513482740555</td>\n",
              "      <td>5</td>\n",
              "    </tr>\n",
              "  </tbody>\n",
              "</table>\n",
              "</div>"
            ],
            "text/plain": [
              "         level                             uid  action     event_time  count\n",
              "1838469    113  M000Y3dYeUUyMjIxODE3MTAyOTAwMQ       1  1513482740555      5"
            ]
          },
          "metadata": {
            "tags": []
          },
          "execution_count": 67
        }
      ]
    },
    {
      "cell_type": "code",
      "metadata": {
        "colab": {
          "base_uri": "https://localhost:8080/",
          "height": 195
        },
        "id": "ldqFFXJ1oc5r",
        "outputId": "66188c04-b62b-4cb0-83dc-1c6306dd3021"
      },
      "source": [
        "t.sample(5)"
      ],
      "execution_count": null,
      "outputs": [
        {
          "output_type": "execute_result",
          "data": {
            "text/html": [
              "<div>\n",
              "<style scoped>\n",
              "    .dataframe tbody tr th:only-of-type {\n",
              "        vertical-align: middle;\n",
              "    }\n",
              "\n",
              "    .dataframe tbody tr th {\n",
              "        vertical-align: top;\n",
              "    }\n",
              "\n",
              "    .dataframe thead th {\n",
              "        text-align: right;\n",
              "    }\n",
              "</style>\n",
              "<table border=\"1\" class=\"dataframe\">\n",
              "  <thead>\n",
              "    <tr style=\"text-align: right;\">\n",
              "      <th></th>\n",
              "      <th>level</th>\n",
              "      <th>uid</th>\n",
              "      <th>action</th>\n",
              "      <th>event_time</th>\n",
              "      <th>count</th>\n",
              "    </tr>\n",
              "  </thead>\n",
              "  <tbody>\n",
              "    <tr>\n",
              "      <th>1470944</th>\n",
              "      <td>91</td>\n",
              "      <td>cGlrbVhNNTAyNTE1NzE3MTAyMjE4MA</td>\n",
              "      <td>0</td>\n",
              "      <td>1514679041474</td>\n",
              "      <td>1</td>\n",
              "    </tr>\n",
              "    <tr>\n",
              "      <th>2396389</th>\n",
              "      <td>147</td>\n",
              "      <td>ZDh0SlByc2w3MTYyMDA3MTAyMDEyMg</td>\n",
              "      <td>1</td>\n",
              "      <td>1514745544059</td>\n",
              "      <td>2</td>\n",
              "    </tr>\n",
              "    <tr>\n",
              "      <th>190794</th>\n",
              "      <td>10</td>\n",
              "      <td>REJaZjBBeDA3MDAyMzI3MTAyMjEwMQ</td>\n",
              "      <td>0</td>\n",
              "      <td>1512984233207</td>\n",
              "      <td>1</td>\n",
              "    </tr>\n",
              "    <tr>\n",
              "      <th>1650929</th>\n",
              "      <td>102</td>\n",
              "      <td>N0pZTkNuYlczMTUyOTA3MTAyMDE4Mg</td>\n",
              "      <td>1</td>\n",
              "      <td>1512784652603</td>\n",
              "      <td>5</td>\n",
              "    </tr>\n",
              "    <tr>\n",
              "      <th>1675785</th>\n",
              "      <td>103</td>\n",
              "      <td>TTNqY3V0blA1MjEzMDA3MTAyMDE0Mg</td>\n",
              "      <td>0</td>\n",
              "      <td>1513404004634</td>\n",
              "      <td>1</td>\n",
              "    </tr>\n",
              "  </tbody>\n",
              "</table>\n",
              "</div>"
            ],
            "text/plain": [
              "         level                             uid  action     event_time  count\n",
              "1470944     91  cGlrbVhNNTAyNTE1NzE3MTAyMjE4MA       0  1514679041474      1\n",
              "2396389    147  ZDh0SlByc2w3MTYyMDA3MTAyMDEyMg       1  1514745544059      2\n",
              "190794      10  REJaZjBBeDA3MDAyMzI3MTAyMjEwMQ       0  1512984233207      1\n",
              "1650929    102  N0pZTkNuYlczMTUyOTA3MTAyMDE4Mg       1  1512784652603      5\n",
              "1675785    103  TTNqY3V0blA1MjEzMDA3MTAyMDE0Mg       0  1513404004634      1"
            ]
          },
          "metadata": {
            "tags": []
          },
          "execution_count": 68
        }
      ]
    },
    {
      "cell_type": "code",
      "metadata": {
        "colab": {
          "base_uri": "https://localhost:8080/",
          "height": 106
        },
        "id": "ANQi4Wrzoxx9",
        "outputId": "a1277cd6-6629-412f-9f9d-cc61def86adc"
      },
      "source": [
        "df[(df['uid']=='cGlrbVhNNTAyNTE1NzE3MTAyMjE4MA')&(df['level']==91)].sort_values('event_time')"
      ],
      "execution_count": null,
      "outputs": [
        {
          "output_type": "execute_result",
          "data": {
            "text/html": [
              "<div>\n",
              "<style scoped>\n",
              "    .dataframe tbody tr th:only-of-type {\n",
              "        vertical-align: middle;\n",
              "    }\n",
              "\n",
              "    .dataframe tbody tr th {\n",
              "        vertical-align: top;\n",
              "    }\n",
              "\n",
              "    .dataframe thead th {\n",
              "        text-align: right;\n",
              "    }\n",
              "</style>\n",
              "<table border=\"1\" class=\"dataframe\">\n",
              "  <thead>\n",
              "    <tr style=\"text-align: right;\">\n",
              "      <th></th>\n",
              "      <th>uid</th>\n",
              "      <th>action</th>\n",
              "      <th>level</th>\n",
              "      <th>event_time</th>\n",
              "      <th>count</th>\n",
              "    </tr>\n",
              "  </thead>\n",
              "  <tbody>\n",
              "    <tr>\n",
              "      <th>8814631</th>\n",
              "      <td>cGlrbVhNNTAyNTE1NzE3MTAyMjE4MA</td>\n",
              "      <td>0</td>\n",
              "      <td>91</td>\n",
              "      <td>1514679041474</td>\n",
              "      <td>1</td>\n",
              "    </tr>\n",
              "    <tr>\n",
              "      <th>8814690</th>\n",
              "      <td>cGlrbVhNNTAyNTE1NzE3MTAyMjE4MA</td>\n",
              "      <td>1</td>\n",
              "      <td>91</td>\n",
              "      <td>1514679041474</td>\n",
              "      <td>2</td>\n",
              "    </tr>\n",
              "  </tbody>\n",
              "</table>\n",
              "</div>"
            ],
            "text/plain": [
              "                                    uid  action  level     event_time  count\n",
              "8814631  cGlrbVhNNTAyNTE1NzE3MTAyMjE4MA       0     91  1514679041474      1\n",
              "8814690  cGlrbVhNNTAyNTE1NzE3MTAyMjE4MA       1     91  1514679041474      2"
            ]
          },
          "metadata": {
            "tags": []
          },
          "execution_count": 69
        }
      ]
    },
    {
      "cell_type": "code",
      "metadata": {
        "colab": {
          "base_uri": "https://localhost:8080/",
          "height": 77
        },
        "id": "3fqgPxW0o3aG",
        "outputId": "d0afd2ce-f6fa-496d-884e-39170b616249"
      },
      "source": [
        "t[(t['uid']=='cGlrbVhNNTAyNTE1NzE3MTAyMjE4MA')&(t['level']==91)].sort_values('event_time')"
      ],
      "execution_count": null,
      "outputs": [
        {
          "output_type": "execute_result",
          "data": {
            "text/html": [
              "<div>\n",
              "<style scoped>\n",
              "    .dataframe tbody tr th:only-of-type {\n",
              "        vertical-align: middle;\n",
              "    }\n",
              "\n",
              "    .dataframe tbody tr th {\n",
              "        vertical-align: top;\n",
              "    }\n",
              "\n",
              "    .dataframe thead th {\n",
              "        text-align: right;\n",
              "    }\n",
              "</style>\n",
              "<table border=\"1\" class=\"dataframe\">\n",
              "  <thead>\n",
              "    <tr style=\"text-align: right;\">\n",
              "      <th></th>\n",
              "      <th>level</th>\n",
              "      <th>uid</th>\n",
              "      <th>action</th>\n",
              "      <th>event_time</th>\n",
              "      <th>count</th>\n",
              "    </tr>\n",
              "  </thead>\n",
              "  <tbody>\n",
              "    <tr>\n",
              "      <th>1470944</th>\n",
              "      <td>91</td>\n",
              "      <td>cGlrbVhNNTAyNTE1NzE3MTAyMjE4MA</td>\n",
              "      <td>0</td>\n",
              "      <td>1514679041474</td>\n",
              "      <td>1</td>\n",
              "    </tr>\n",
              "  </tbody>\n",
              "</table>\n",
              "</div>"
            ],
            "text/plain": [
              "         level                             uid  action     event_time  count\n",
              "1470944     91  cGlrbVhNNTAyNTE1NzE3MTAyMjE4MA       0  1514679041474      1"
            ]
          },
          "metadata": {
            "tags": []
          },
          "execution_count": 70
        }
      ]
    },
    {
      "cell_type": "code",
      "metadata": {
        "id": "ZjwnOA3Co-Vt"
      },
      "source": [
        "t.columns = ['level', 'uid', 'failed', 'event_time', 'count']"
      ],
      "execution_count": null,
      "outputs": []
    },
    {
      "cell_type": "code",
      "metadata": {
        "colab": {
          "base_uri": "https://localhost:8080/",
          "height": 195
        },
        "id": "7PIj2JsGpTzc",
        "outputId": "0de732f3-82cc-4e58-95ea-61fff4d9c91b"
      },
      "source": [
        "t.head()"
      ],
      "execution_count": null,
      "outputs": [
        {
          "output_type": "execute_result",
          "data": {
            "text/html": [
              "<div>\n",
              "<style scoped>\n",
              "    .dataframe tbody tr th:only-of-type {\n",
              "        vertical-align: middle;\n",
              "    }\n",
              "\n",
              "    .dataframe tbody tr th {\n",
              "        vertical-align: top;\n",
              "    }\n",
              "\n",
              "    .dataframe thead th {\n",
              "        text-align: right;\n",
              "    }\n",
              "</style>\n",
              "<table border=\"1\" class=\"dataframe\">\n",
              "  <thead>\n",
              "    <tr style=\"text-align: right;\">\n",
              "      <th></th>\n",
              "      <th>level</th>\n",
              "      <th>uid</th>\n",
              "      <th>failed</th>\n",
              "      <th>event_time</th>\n",
              "      <th>count</th>\n",
              "    </tr>\n",
              "  </thead>\n",
              "  <tbody>\n",
              "    <tr>\n",
              "      <th>0</th>\n",
              "      <td>1</td>\n",
              "      <td>M001TWRFNWc5MjQ1MDI3MTAyMjE5MA</td>\n",
              "      <td>0</td>\n",
              "      <td>1512855813696</td>\n",
              "      <td>1</td>\n",
              "    </tr>\n",
              "    <tr>\n",
              "      <th>1</th>\n",
              "      <td>1</td>\n",
              "      <td>M001VTlGalU5MzcwMTI3MTAyMjE5Mg</td>\n",
              "      <td>0</td>\n",
              "      <td>1514578577760</td>\n",
              "      <td>1</td>\n",
              "    </tr>\n",
              "    <tr>\n",
              "      <th>2</th>\n",
              "      <td>1</td>\n",
              "      <td>M010Z2VmOFgzMzgwMTI3MTAyMjE4Mg</td>\n",
              "      <td>0</td>\n",
              "      <td>1514489117415</td>\n",
              "      <td>1</td>\n",
              "    </tr>\n",
              "    <tr>\n",
              "      <th>3</th>\n",
              "      <td>1</td>\n",
              "      <td>M01QQlBMVmo1NTcyODA3MTAyMjE4MQ</td>\n",
              "      <td>0</td>\n",
              "      <td>1513557080655</td>\n",
              "      <td>1</td>\n",
              "    </tr>\n",
              "    <tr>\n",
              "      <th>4</th>\n",
              "      <td>1</td>\n",
              "      <td>M01TMDNDdzA0MDkwNzE3MTAyMjE2MA</td>\n",
              "      <td>0</td>\n",
              "      <td>1512535403271</td>\n",
              "      <td>1</td>\n",
              "    </tr>\n",
              "  </tbody>\n",
              "</table>\n",
              "</div>"
            ],
            "text/plain": [
              "   level                             uid  failed     event_time  count\n",
              "0      1  M001TWRFNWc5MjQ1MDI3MTAyMjE5MA       0  1512855813696      1\n",
              "1      1  M001VTlGalU5MzcwMTI3MTAyMjE5Mg       0  1514578577760      1\n",
              "2      1  M010Z2VmOFgzMzgwMTI3MTAyMjE4Mg       0  1514489117415      1\n",
              "3      1  M01QQlBMVmo1NTcyODA3MTAyMjE4MQ       0  1513557080655      1\n",
              "4      1  M01TMDNDdzA0MDkwNzE3MTAyMjE2MA       0  1512535403271      1"
            ]
          },
          "metadata": {
            "tags": []
          },
          "execution_count": 74
        }
      ]
    },
    {
      "cell_type": "code",
      "metadata": {
        "id": "bPl--qRHpf3P"
      },
      "source": [
        "t['comleted'] = t['failed'].apply(lambda x: 1 if 0 else 0)"
      ],
      "execution_count": null,
      "outputs": []
    },
    {
      "cell_type": "code",
      "metadata": {
        "colab": {
          "base_uri": "https://localhost:8080/"
        },
        "id": "a1wML26Xpy0b",
        "outputId": "638ee78c-0782-4a44-cb61-6d926100bea6"
      },
      "source": [
        "t['failed'].replace(0,1).replace(1,0)"
      ],
      "execution_count": null,
      "outputs": [
        {
          "output_type": "execute_result",
          "data": {
            "text/plain": [
              "0          0\n",
              "1          0\n",
              "2          0\n",
              "3          0\n",
              "4          0\n",
              "          ..\n",
              "3803853    0\n",
              "3803854    0\n",
              "3803855    0\n",
              "3803856    0\n",
              "3803857    0\n",
              "Name: failed, Length: 3803858, dtype: int64"
            ]
          },
          "metadata": {
            "tags": []
          },
          "execution_count": 79
        }
      ]
    },
    {
      "cell_type": "code",
      "metadata": {
        "colab": {
          "base_uri": "https://localhost:8080/",
          "height": 298
        },
        "id": "fuIQfXSuqAZ8",
        "outputId": "3aa12038-cf43-4621-a1f6-3115ce1ed5d6"
      },
      "source": [
        "t.groupby('level')['failed'].mean().plot()"
      ],
      "execution_count": null,
      "outputs": [
        {
          "output_type": "execute_result",
          "data": {
            "text/plain": [
              "<matplotlib.axes._subplots.AxesSubplot at 0x7f4f1b67c350>"
            ]
          },
          "metadata": {
            "tags": []
          },
          "execution_count": 82
        },
        {
          "output_type": "display_data",
          "data": {
            "image/png": "[encoded data removed]",
            "text/plain": [
              "<Figure size 432x288 with 1 Axes>"
            ]
          },
          "metadata": {
            "tags": [],
            "needs_background": "light"
          }
        }
      ]
    },
    {
      "cell_type": "code",
      "metadata": {
        "id": "m8zX6HgLqLmN"
      },
      "source": [
        "df = pd.read_csv('/content/plr_smpl_attempts.csv.gz',sep=';')"
      ],
      "execution_count": null,
      "outputs": []
    },
    {
      "cell_type": "code",
      "metadata": {
        "id": "KfTglPRnq1UJ"
      },
      "source": [
        "t = df.groupby(['uid','event_time'])['uid'].count()"
      ],
      "execution_count": null,
      "outputs": []
    },
    {
      "cell_type": "code",
      "metadata": {
        "colab": {
          "base_uri": "https://localhost:8080/"
        },
        "id": "oiAaakWSq-5s",
        "outputId": "4a572c8f-34a5-4a62-b54a-408e1a99d591"
      },
      "source": [
        "t.sort_values()"
      ],
      "execution_count": null,
      "outputs": [
        {
          "output_type": "execute_result",
          "data": {
            "text/plain": [
              "uid                             event_time   \n",
              "enpzeGNhWUk4MjE0MzE3MTAyMDE5MA  1514674966884       1\n",
              "YzNLQ25tWTU4NTgzMjI3MTAyMDEyMA  1513914594387       1\n",
              "RUxHSnZTV3o5MTQyMTI3MTAyOTAyMg  1513744264460       1\n",
              "YzNMczF1RVUyMjMyMzI3MTAyMDE1MQ  1513675368301       1\n",
              "                                1513705431024       1\n",
              "                                                 ... \n",
              "dlE1TGo1ZjU1NDExOTA3MTAyMDE5MA  1514078786418    1182\n",
              "SHIwdkltZlk0NTUxNjE3MTAyOTA5Mg  1514006798622    1233\n",
              "Z3o0TmFoeTQ1MjMyOTE3MTAyOTAxMg  1513449317511    1408\n",
              "U0NVNk4xSlAxMjc0MzE3MTAyMDE1MA  1514463213261    1561\n",
              "NWVTWWt4UzIxMDUxMTA3MTAyOTA5Mg  1514370274359    1688\n",
              "Name: uid, Length: 5486162, dtype: int64"
            ]
          },
          "metadata": {
            "tags": []
          },
          "execution_count": 87
        }
      ]
    },
    {
      "cell_type": "code",
      "metadata": {
        "colab": {
          "base_uri": "https://localhost:8080/",
          "height": 402
        },
        "id": "v5Bf2QXorDkX",
        "outputId": "5b03cd3b-c006-4072-916a-38c2d9e524e1"
      },
      "source": [
        "df[(df['uid']=='NWVTWWt4UzIxMDUxMTA3MTAyOTA5Mg')&(df['event_time']==1514370274359)]"
      ],
      "execution_count": null,
      "outputs": [
        {
          "output_type": "execute_result",
          "data": {
            "text/html": [
              "<div>\n",
              "<style scoped>\n",
              "    .dataframe tbody tr th:only-of-type {\n",
              "        vertical-align: middle;\n",
              "    }\n",
              "\n",
              "    .dataframe tbody tr th {\n",
              "        vertical-align: top;\n",
              "    }\n",
              "\n",
              "    .dataframe thead th {\n",
              "        text-align: right;\n",
              "    }\n",
              "</style>\n",
              "<table border=\"1\" class=\"dataframe\">\n",
              "  <thead>\n",
              "    <tr style=\"text-align: right;\">\n",
              "      <th></th>\n",
              "      <th>uid</th>\n",
              "      <th>action</th>\n",
              "      <th>level</th>\n",
              "      <th>event_time</th>\n",
              "    </tr>\n",
              "  </thead>\n",
              "  <tbody>\n",
              "    <tr>\n",
              "      <th>9641711</th>\n",
              "      <td>NWVTWWt4UzIxMDUxMTA3MTAyOTA5Mg</td>\n",
              "      <td>completed</td>\n",
              "      <td>263</td>\n",
              "      <td>1514370274359</td>\n",
              "    </tr>\n",
              "    <tr>\n",
              "      <th>9641712</th>\n",
              "      <td>NWVTWWt4UzIxMDUxMTA3MTAyOTA5Mg</td>\n",
              "      <td>failed</td>\n",
              "      <td>263</td>\n",
              "      <td>1514370274359</td>\n",
              "    </tr>\n",
              "    <tr>\n",
              "      <th>9641713</th>\n",
              "      <td>NWVTWWt4UzIxMDUxMTA3MTAyOTA5Mg</td>\n",
              "      <td>completed</td>\n",
              "      <td>262</td>\n",
              "      <td>1514370274359</td>\n",
              "    </tr>\n",
              "    <tr>\n",
              "      <th>9641714</th>\n",
              "      <td>NWVTWWt4UzIxMDUxMTA3MTAyOTA5Mg</td>\n",
              "      <td>failed</td>\n",
              "      <td>262</td>\n",
              "      <td>1514370274359</td>\n",
              "    </tr>\n",
              "    <tr>\n",
              "      <th>9641715</th>\n",
              "      <td>NWVTWWt4UzIxMDUxMTA3MTAyOTA5Mg</td>\n",
              "      <td>failed</td>\n",
              "      <td>262</td>\n",
              "      <td>1514370274359</td>\n",
              "    </tr>\n",
              "    <tr>\n",
              "      <th>...</th>\n",
              "      <td>...</td>\n",
              "      <td>...</td>\n",
              "      <td>...</td>\n",
              "      <td>...</td>\n",
              "    </tr>\n",
              "    <tr>\n",
              "      <th>9643394</th>\n",
              "      <td>NWVTWWt4UzIxMDUxMTA3MTAyOTA5Mg</td>\n",
              "      <td>failed</td>\n",
              "      <td>143</td>\n",
              "      <td>1514370274359</td>\n",
              "    </tr>\n",
              "    <tr>\n",
              "      <th>9643395</th>\n",
              "      <td>NWVTWWt4UzIxMDUxMTA3MTAyOTA5Mg</td>\n",
              "      <td>failed</td>\n",
              "      <td>143</td>\n",
              "      <td>1514370274359</td>\n",
              "    </tr>\n",
              "    <tr>\n",
              "      <th>9643396</th>\n",
              "      <td>NWVTWWt4UzIxMDUxMTA3MTAyOTA5Mg</td>\n",
              "      <td>failed</td>\n",
              "      <td>143</td>\n",
              "      <td>1514370274359</td>\n",
              "    </tr>\n",
              "    <tr>\n",
              "      <th>9643397</th>\n",
              "      <td>NWVTWWt4UzIxMDUxMTA3MTAyOTA5Mg</td>\n",
              "      <td>failed</td>\n",
              "      <td>143</td>\n",
              "      <td>1514370274359</td>\n",
              "    </tr>\n",
              "    <tr>\n",
              "      <th>9643398</th>\n",
              "      <td>NWVTWWt4UzIxMDUxMTA3MTAyOTA5Mg</td>\n",
              "      <td>failed</td>\n",
              "      <td>143</td>\n",
              "      <td>1514370274359</td>\n",
              "    </tr>\n",
              "  </tbody>\n",
              "</table>\n",
              "<p>1688 rows × 4 columns</p>\n",
              "</div>"
            ],
            "text/plain": [
              "                                    uid     action  level     event_time\n",
              "9641711  NWVTWWt4UzIxMDUxMTA3MTAyOTA5Mg  completed    263  1514370274359\n",
              "9641712  NWVTWWt4UzIxMDUxMTA3MTAyOTA5Mg     failed    263  1514370274359\n",
              "9641713  NWVTWWt4UzIxMDUxMTA3MTAyOTA5Mg  completed    262  1514370274359\n",
              "9641714  NWVTWWt4UzIxMDUxMTA3MTAyOTA5Mg     failed    262  1514370274359\n",
              "9641715  NWVTWWt4UzIxMDUxMTA3MTAyOTA5Mg     failed    262  1514370274359\n",
              "...                                 ...        ...    ...            ...\n",
              "9643394  NWVTWWt4UzIxMDUxMTA3MTAyOTA5Mg     failed    143  1514370274359\n",
              "9643395  NWVTWWt4UzIxMDUxMTA3MTAyOTA5Mg     failed    143  1514370274359\n",
              "9643396  NWVTWWt4UzIxMDUxMTA3MTAyOTA5Mg     failed    143  1514370274359\n",
              "9643397  NWVTWWt4UzIxMDUxMTA3MTAyOTA5Mg     failed    143  1514370274359\n",
              "9643398  NWVTWWt4UzIxMDUxMTA3MTAyOTA5Mg     failed    143  1514370274359\n",
              "\n",
              "[1688 rows x 4 columns]"
            ]
          },
          "metadata": {
            "tags": []
          },
          "execution_count": 89
        }
      ]
    },
    {
      "cell_type": "code",
      "metadata": {
        "colab": {
          "base_uri": "https://localhost:8080/"
        },
        "id": "kfwLZcrXrNvF",
        "outputId": "33993e1a-d719-4e46-fc2a-f275092f026c"
      },
      "source": [
        "df[(df['uid']=='NWVTWWt4UzIxMDUxMTA3MTAyOTA5Mg')&(df['event_time']==1514370274359)]['level'].value_counts()"
      ],
      "execution_count": null,
      "outputs": [
        {
          "output_type": "execute_result",
          "data": {
            "text/plain": [
              "154    344\n",
              "144     77\n",
              "197     54\n",
              "214     53\n",
              "167     50\n",
              "      ... \n",
              "212      1\n",
              "211      1\n",
              "190      1\n",
              "202      1\n",
              "203      1\n",
              "Name: level, Length: 121, dtype: int64"
            ]
          },
          "metadata": {
            "tags": []
          },
          "execution_count": 90
        }
      ]
    },
    {
      "cell_type": "markdown",
      "metadata": {
        "id": "2rsC9Wb9rcQu"
      },
      "source": [
        "# Доля тех кто отваливается поле уровня: либо на всегда, либо на время"
      ]
    },
    {
      "cell_type": "markdown",
      "metadata": {
        "id": "WlwWkdZGsw-g"
      },
      "source": [
        "# Количество уникальных пользователей играющих на уровне"
      ]
    },
    {
      "cell_type": "markdown",
      "metadata": {
        "id": "KH3QSzYyttN2"
      },
      "source": [
        "Задание 1  \n",
        "Предложить метрику, описывающую сложность уровней, и рассчитать ее.  \n",
        "\n",
        "Задание 2  \n",
        "По результатам предыдущего задания разделить уровни на группы по сложности и\n",
        "сделать вывод о плотности расположения сложных уровней в игре.  \n",
        "Задание 3  \n",
        "Рассчитать \"воронку\" прохождения уровней новым пользователем после установки\n",
        "игры.  "
      ]
    },
    {
      "cell_type": "code",
      "metadata": {
        "colab": {
          "base_uri": "https://localhost:8080/",
          "height": 297
        },
        "id": "X6_y8Yq5s4KW",
        "outputId": "6fca6b64-dd3d-4db5-bcc8-5031f6795bd3"
      },
      "source": [
        "df.groupby('level')['uid'].nunique().plot()"
      ],
      "execution_count": null,
      "outputs": [
        {
          "output_type": "execute_result",
          "data": {
            "text/plain": [
              "<matplotlib.axes._subplots.AxesSubplot at 0x7f4f155c9810>"
            ]
          },
          "metadata": {
            "tags": []
          },
          "execution_count": 92
        },
        {
          "output_type": "display_data",
          "data": {
            "image/png": "[encoded data removed]",
            "text/plain": [
              "<Figure size 432x288 with 1 Axes>"
            ]
          },
          "metadata": {
            "tags": [],
            "needs_background": "light"
          }
        }
      ]
    },
    {
      "cell_type": "code",
      "metadata": {
        "id": "mzL-0qtJzbFf"
      },
      "source": [
        "df['failed'] = df['action'].replace('failed',1).replace('completed',0)"
      ],
      "execution_count": null,
      "outputs": []
    },
    {
      "cell_type": "code",
      "metadata": {
        "colab": {
          "base_uri": "https://localhost:8080/",
          "height": 296
        },
        "id": "e6fsViYOzYZM",
        "outputId": "d640d7df-a437-40d4-bc11-8825de22c3d5"
      },
      "source": [
        "df.groupby('level')['failed'].mean().plot()"
      ],
      "execution_count": null,
      "outputs": [
        {
          "output_type": "execute_result",
          "data": {
            "text/plain": [
              "<matplotlib.axes._subplots.AxesSubplot at 0x7f4f1558e5d0>"
            ]
          },
          "metadata": {
            "tags": []
          },
          "execution_count": 122
        },
        {
          "output_type": "display_data",
          "data": {
            "image/png": "[encoded data removed]",
            "text/plain": [
              "<Figure size 432x288 with 1 Axes>"
            ]
          },
          "metadata": {
            "tags": [],
            "needs_background": "light"
          }
        }
      ]
    },
    {
      "cell_type": "code",
      "metadata": {
        "colab": {
          "base_uri": "https://localhost:8080/"
        },
        "id": "QCfyWi4XsG4x",
        "outputId": "972b7f54-14bf-4bde-fc6e-f545c64a404f"
      },
      "source": [
        "df['uid'].nunique()"
      ],
      "execution_count": null,
      "outputs": [
        {
          "output_type": "execute_result",
          "data": {
            "text/plain": [
              "196088"
            ]
          },
          "metadata": {
            "tags": []
          },
          "execution_count": 93
        }
      ]
    },
    {
      "cell_type": "code",
      "metadata": {
        "colab": {
          "base_uri": "https://localhost:8080/",
          "height": 402
        },
        "id": "qj4MYlm9uOYI",
        "outputId": "2e3ac6e3-e84e-4abb-93dc-7227373198d4"
      },
      "source": [
        "df"
      ],
      "execution_count": null,
      "outputs": [
        {
          "output_type": "execute_result",
          "data": {
            "text/html": [
              "<div>\n",
              "<style scoped>\n",
              "    .dataframe tbody tr th:only-of-type {\n",
              "        vertical-align: middle;\n",
              "    }\n",
              "\n",
              "    .dataframe tbody tr th {\n",
              "        vertical-align: top;\n",
              "    }\n",
              "\n",
              "    .dataframe thead th {\n",
              "        text-align: right;\n",
              "    }\n",
              "</style>\n",
              "<table border=\"1\" class=\"dataframe\">\n",
              "  <thead>\n",
              "    <tr style=\"text-align: right;\">\n",
              "      <th></th>\n",
              "      <th>uid</th>\n",
              "      <th>action</th>\n",
              "      <th>level</th>\n",
              "      <th>event_time</th>\n",
              "    </tr>\n",
              "  </thead>\n",
              "  <tbody>\n",
              "    <tr>\n",
              "      <th>0</th>\n",
              "      <td>elljQ2EySG03MDU0MTE3MTAyMTE3MA</td>\n",
              "      <td>failed</td>\n",
              "      <td>113</td>\n",
              "      <td>1512086924640</td>\n",
              "    </tr>\n",
              "    <tr>\n",
              "      <th>1</th>\n",
              "      <td>elljQ2EySG03MDU0MTE3MTAyMTE3MA</td>\n",
              "      <td>failed</td>\n",
              "      <td>113</td>\n",
              "      <td>1512086924640</td>\n",
              "    </tr>\n",
              "    <tr>\n",
              "      <th>2</th>\n",
              "      <td>elljQ2EySG03MDU0MTE3MTAyMTE3MA</td>\n",
              "      <td>failed</td>\n",
              "      <td>113</td>\n",
              "      <td>1512086924640</td>\n",
              "    </tr>\n",
              "    <tr>\n",
              "      <th>3</th>\n",
              "      <td>elljQ2EySG03MDU0MTE3MTAyMTE3MA</td>\n",
              "      <td>failed</td>\n",
              "      <td>113</td>\n",
              "      <td>1512086924640</td>\n",
              "    </tr>\n",
              "    <tr>\n",
              "      <th>4</th>\n",
              "      <td>elljQ2EySG03MDU0MTE3MTAyMTE3MA</td>\n",
              "      <td>failed</td>\n",
              "      <td>113</td>\n",
              "      <td>1512086924640</td>\n",
              "    </tr>\n",
              "    <tr>\n",
              "      <th>...</th>\n",
              "      <td>...</td>\n",
              "      <td>...</td>\n",
              "      <td>...</td>\n",
              "      <td>...</td>\n",
              "    </tr>\n",
              "    <tr>\n",
              "      <th>22231209</th>\n",
              "      <td>R2l2aXM5bGM1MTExMzE3MTAyMDE4MQ</td>\n",
              "      <td>failed</td>\n",
              "      <td>214</td>\n",
              "      <td>1514189810163</td>\n",
              "    </tr>\n",
              "    <tr>\n",
              "      <th>22231210</th>\n",
              "      <td>R2l2aXM5bGM1MTExMzE3MTAyMDE4MQ</td>\n",
              "      <td>failed</td>\n",
              "      <td>214</td>\n",
              "      <td>1514189810163</td>\n",
              "    </tr>\n",
              "    <tr>\n",
              "      <th>22231211</th>\n",
              "      <td>R2l2aXM5bGM1MTExMzE3MTAyMDE4MQ</td>\n",
              "      <td>completed</td>\n",
              "      <td>213</td>\n",
              "      <td>1514189810163</td>\n",
              "    </tr>\n",
              "    <tr>\n",
              "      <th>22231212</th>\n",
              "      <td>R2l2aXM5bGM1MTExMzE3MTAyMDE4MQ</td>\n",
              "      <td>failed</td>\n",
              "      <td>213</td>\n",
              "      <td>1514189810163</td>\n",
              "    </tr>\n",
              "    <tr>\n",
              "      <th>22231213</th>\n",
              "      <td>R2l2aXM5bGM1MTExMzE3MTAyMDE4MQ</td>\n",
              "      <td>failed</td>\n",
              "      <td>214</td>\n",
              "      <td>1514192215548</td>\n",
              "    </tr>\n",
              "  </tbody>\n",
              "</table>\n",
              "<p>22231214 rows × 4 columns</p>\n",
              "</div>"
            ],
            "text/plain": [
              "                                     uid     action  level     event_time\n",
              "0         elljQ2EySG03MDU0MTE3MTAyMTE3MA     failed    113  1512086924640\n",
              "1         elljQ2EySG03MDU0MTE3MTAyMTE3MA     failed    113  1512086924640\n",
              "2         elljQ2EySG03MDU0MTE3MTAyMTE3MA     failed    113  1512086924640\n",
              "3         elljQ2EySG03MDU0MTE3MTAyMTE3MA     failed    113  1512086924640\n",
              "4         elljQ2EySG03MDU0MTE3MTAyMTE3MA     failed    113  1512086924640\n",
              "...                                  ...        ...    ...            ...\n",
              "22231209  R2l2aXM5bGM1MTExMzE3MTAyMDE4MQ     failed    214  1514189810163\n",
              "22231210  R2l2aXM5bGM1MTExMzE3MTAyMDE4MQ     failed    214  1514189810163\n",
              "22231211  R2l2aXM5bGM1MTExMzE3MTAyMDE4MQ  completed    213  1514189810163\n",
              "22231212  R2l2aXM5bGM1MTExMzE3MTAyMDE4MQ     failed    213  1514189810163\n",
              "22231213  R2l2aXM5bGM1MTExMzE3MTAyMDE4MQ     failed    214  1514192215548\n",
              "\n",
              "[22231214 rows x 4 columns]"
            ]
          },
          "metadata": {
            "tags": []
          },
          "execution_count": 94
        }
      ]
    },
    {
      "cell_type": "code",
      "metadata": {
        "id": "smKLyruGuVko"
      },
      "source": [
        "df['dt'] = pd.to_datetime(df['event_time']/1000,unit='s')"
      ],
      "execution_count": null,
      "outputs": []
    },
    {
      "cell_type": "code",
      "metadata": {
        "colab": {
          "base_uri": "https://localhost:8080/",
          "height": 195
        },
        "id": "44BjmN1aunDQ",
        "outputId": "5f0810cf-84f6-4d3a-b4f6-23b247156497"
      },
      "source": [
        "df.head()"
      ],
      "execution_count": null,
      "outputs": [
        {
          "output_type": "execute_result",
          "data": {
            "text/html": [
              "<div>\n",
              "<style scoped>\n",
              "    .dataframe tbody tr th:only-of-type {\n",
              "        vertical-align: middle;\n",
              "    }\n",
              "\n",
              "    .dataframe tbody tr th {\n",
              "        vertical-align: top;\n",
              "    }\n",
              "\n",
              "    .dataframe thead th {\n",
              "        text-align: right;\n",
              "    }\n",
              "</style>\n",
              "<table border=\"1\" class=\"dataframe\">\n",
              "  <thead>\n",
              "    <tr style=\"text-align: right;\">\n",
              "      <th></th>\n",
              "      <th>uid</th>\n",
              "      <th>action</th>\n",
              "      <th>level</th>\n",
              "      <th>event_time</th>\n",
              "      <th>dt</th>\n",
              "    </tr>\n",
              "  </thead>\n",
              "  <tbody>\n",
              "    <tr>\n",
              "      <th>0</th>\n",
              "      <td>elljQ2EySG03MDU0MTE3MTAyMTE3MA</td>\n",
              "      <td>failed</td>\n",
              "      <td>113</td>\n",
              "      <td>1512086924640</td>\n",
              "      <td>2017-12-01 00:08:44.640000105</td>\n",
              "    </tr>\n",
              "    <tr>\n",
              "      <th>1</th>\n",
              "      <td>elljQ2EySG03MDU0MTE3MTAyMTE3MA</td>\n",
              "      <td>failed</td>\n",
              "      <td>113</td>\n",
              "      <td>1512086924640</td>\n",
              "      <td>2017-12-01 00:08:44.640000105</td>\n",
              "    </tr>\n",
              "    <tr>\n",
              "      <th>2</th>\n",
              "      <td>elljQ2EySG03MDU0MTE3MTAyMTE3MA</td>\n",
              "      <td>failed</td>\n",
              "      <td>113</td>\n",
              "      <td>1512086924640</td>\n",
              "      <td>2017-12-01 00:08:44.640000105</td>\n",
              "    </tr>\n",
              "    <tr>\n",
              "      <th>3</th>\n",
              "      <td>elljQ2EySG03MDU0MTE3MTAyMTE3MA</td>\n",
              "      <td>failed</td>\n",
              "      <td>113</td>\n",
              "      <td>1512086924640</td>\n",
              "      <td>2017-12-01 00:08:44.640000105</td>\n",
              "    </tr>\n",
              "    <tr>\n",
              "      <th>4</th>\n",
              "      <td>elljQ2EySG03MDU0MTE3MTAyMTE3MA</td>\n",
              "      <td>failed</td>\n",
              "      <td>113</td>\n",
              "      <td>1512086924640</td>\n",
              "      <td>2017-12-01 00:08:44.640000105</td>\n",
              "    </tr>\n",
              "  </tbody>\n",
              "</table>\n",
              "</div>"
            ],
            "text/plain": [
              "                              uid  ...                            dt\n",
              "0  elljQ2EySG03MDU0MTE3MTAyMTE3MA  ... 2017-12-01 00:08:44.640000105\n",
              "1  elljQ2EySG03MDU0MTE3MTAyMTE3MA  ... 2017-12-01 00:08:44.640000105\n",
              "2  elljQ2EySG03MDU0MTE3MTAyMTE3MA  ... 2017-12-01 00:08:44.640000105\n",
              "3  elljQ2EySG03MDU0MTE3MTAyMTE3MA  ... 2017-12-01 00:08:44.640000105\n",
              "4  elljQ2EySG03MDU0MTE3MTAyMTE3MA  ... 2017-12-01 00:08:44.640000105\n",
              "\n",
              "[5 rows x 5 columns]"
            ]
          },
          "metadata": {
            "tags": []
          },
          "execution_count": 97
        }
      ]
    },
    {
      "cell_type": "code",
      "metadata": {
        "colab": {
          "base_uri": "https://localhost:8080/"
        },
        "id": "cR5QE3_2u1BF",
        "outputId": "5f5cf789-d4f8-4244-8d22-9b016d67b183"
      },
      "source": [
        "df['dt'].agg(['min','max'])"
      ],
      "execution_count": null,
      "outputs": [
        {
          "output_type": "execute_result",
          "data": {
            "text/plain": [
              "min   2017-12-01 00:00:00.272000074\n",
              "max   2017-12-31 23:59:59.867000103\n",
              "Name: dt, dtype: datetime64[ns]"
            ]
          },
          "metadata": {
            "tags": []
          },
          "execution_count": 98
        }
      ]
    },
    {
      "cell_type": "code",
      "metadata": {
        "colab": {
          "base_uri": "https://localhost:8080/",
          "height": 297
        },
        "id": "1nm0OXtQu4_I",
        "outputId": "fca36c73-ef80-4178-eb21-6b6163108eb9"
      },
      "source": [
        "df.groupby('level')['uid'].nunique().plot()"
      ],
      "execution_count": null,
      "outputs": [
        {
          "output_type": "execute_result",
          "data": {
            "text/plain": [
              "<matplotlib.axes._subplots.AxesSubplot at 0x7f4f155daf90>"
            ]
          },
          "metadata": {
            "tags": []
          },
          "execution_count": 99
        },
        {
          "output_type": "display_data",
          "data": {
            "image/png": "[encoded data removed]",
            "text/plain": [
              "<Figure size 432x288 with 1 Axes>"
            ]
          },
          "metadata": {
            "tags": [],
            "needs_background": "light"
          }
        }
      ]
    },
    {
      "cell_type": "code",
      "metadata": {
        "colab": {
          "base_uri": "https://localhost:8080/"
        },
        "id": "GbO22Mlxvets",
        "outputId": "16ddd4ff-6733-443c-a3ba-1fc64af91044"
      },
      "source": [
        "df['uid'].nunique() * 31"
      ],
      "execution_count": null,
      "outputs": [
        {
          "output_type": "execute_result",
          "data": {
            "text/plain": [
              "6078728"
            ]
          },
          "metadata": {
            "tags": []
          },
          "execution_count": 100
        }
      ]
    },
    {
      "cell_type": "markdown",
      "metadata": {
        "id": "oFommyQKvmx-"
      },
      "source": [
        "1 1 89\n",
        "1 2 -\n",
        "1 3 - "
      ]
    },
    {
      "cell_type": "markdown",
      "metadata": {
        "id": "bCejs8H7v9Xi"
      },
      "source": [
        "Задание 1  \n",
        "Предложить метрику, описывающую сложность уровней, и рассчитать ее.  \n",
        "\n",
        "Задание 2  \n",
        "По результатам предыдущего задания разделить уровни на группы по сложности и\n",
        "сделать вывод о плотности расположения сложных уровней в игре.  \n",
        "Задание 3  \n",
        "Рассчитать \"воронку\" прохождения уровней новым пользователем после установки\n",
        "игры.  "
      ]
    },
    {
      "cell_type": "code",
      "metadata": {
        "id": "B0Kf3NrpwF2Q"
      },
      "source": [
        "df['day'] = df['dt'].dt.date"
      ],
      "execution_count": null,
      "outputs": []
    },
    {
      "cell_type": "code",
      "metadata": {
        "id": "T_x1ezA1wvTP"
      },
      "source": [
        "t = df.groupby('uid')['day'].min()"
      ],
      "execution_count": null,
      "outputs": []
    },
    {
      "cell_type": "code",
      "metadata": {
        "id": "Njfuq8-KxBPD"
      },
      "source": [
        "t = t.reset_index()"
      ],
      "execution_count": null,
      "outputs": []
    },
    {
      "cell_type": "code",
      "metadata": {
        "colab": {
          "base_uri": "https://localhost:8080/",
          "height": 335
        },
        "id": "5XGlEEcwxXav",
        "outputId": "83384afe-b9b8-464d-eab2-f2070353a978"
      },
      "source": [
        "t.groupby('day')['uid'].count().plot(rot=45)"
      ],
      "execution_count": null,
      "outputs": [
        {
          "output_type": "execute_result",
          "data": {
            "text/plain": [
              "<matplotlib.axes._subplots.AxesSubplot at 0x7f4ebf21a950>"
            ]
          },
          "metadata": {
            "tags": []
          },
          "execution_count": 115
        },
        {
          "output_type": "display_data",
          "data": {
            "image/png": "[encoded data removed]",
            "text/plain": [
              "<Figure size 432x288 with 1 Axes>"
            ]
          },
          "metadata": {
            "tags": [],
            "needs_background": "light"
          }
        }
      ]
    },
    {
      "cell_type": "code",
      "metadata": {
        "colab": {
          "base_uri": "https://localhost:8080/"
        },
        "id": "9Li4ndhjxdRL",
        "outputId": "87c8a69b-63b2-4be7-bc99-7d500c64d3a9"
      },
      "source": [
        "df['uid'].nunique()"
      ],
      "execution_count": null,
      "outputs": [
        {
          "output_type": "execute_result",
          "data": {
            "text/plain": [
              "196088"
            ]
          },
          "metadata": {
            "tags": []
          },
          "execution_count": 116
        }
      ]
    },
    {
      "cell_type": "code",
      "metadata": {
        "colab": {
          "base_uri": "https://localhost:8080/",
          "height": 335
        },
        "id": "QL3QO_0gxsx6",
        "outputId": "265a718f-64cf-4d5d-a2dc-1106a18bc2e3"
      },
      "source": [
        "df.groupby('day')['uid'].nunique().plot(rot=45,ylim=0)"
      ],
      "execution_count": null,
      "outputs": [
        {
          "output_type": "execute_result",
          "data": {
            "text/plain": [
              "<matplotlib.axes._subplots.AxesSubplot at 0x7f4f1b59e990>"
            ]
          },
          "metadata": {
            "tags": []
          },
          "execution_count": 119
        },
        {
          "output_type": "display_data",
          "data": {
            "image/png": "[encoded data removed]",
            "text/plain": [
              "<Figure size 432x288 with 1 Axes>"
            ]
          },
          "metadata": {
            "tags": [],
            "needs_background": "light"
          }
        }
      ]
    },
    {
      "cell_type": "code",
      "metadata": {
        "colab": {
          "base_uri": "https://localhost:8080/",
          "height": 296
        },
        "id": "dSiF91JCyFxd",
        "outputId": "1dd60869-1c6e-4ae1-da65-f45e4cd96838"
      },
      "source": [
        "df.groupby('level')['uid'].count().plot()"
      ],
      "execution_count": null,
      "outputs": [
        {
          "output_type": "execute_result",
          "data": {
            "text/plain": [
              "<matplotlib.axes._subplots.AxesSubplot at 0x7f4ebf0a7590>"
            ]
          },
          "metadata": {
            "tags": []
          },
          "execution_count": 125
        },
        {
          "output_type": "display_data",
          "data": {
            "image/png": "[encoded data removed]",
            "text/plain": [
              "<Figure size 432x288 with 1 Axes>"
            ]
          },
          "metadata": {
            "tags": [],
            "needs_background": "light"
          }
        }
      ]
    },
    {
      "cell_type": "code",
      "metadata": {
        "id": "SE12A2n00CQr"
      },
      "source": [
        "t = df.groupby(['level','uid'])['uid'].count()"
      ],
      "execution_count": null,
      "outputs": []
    },
    {
      "cell_type": "code",
      "metadata": {
        "id": "A4YaLigJ0i_F"
      },
      "source": [
        "t.name = 'count'"
      ],
      "execution_count": null,
      "outputs": []
    },
    {
      "cell_type": "code",
      "metadata": {
        "id": "BsOnOumc0eev"
      },
      "source": [
        "t = t.reset_index()"
      ],
      "execution_count": null,
      "outputs": []
    },
    {
      "cell_type": "code",
      "metadata": {
        "colab": {
          "base_uri": "https://localhost:8080/",
          "height": 195
        },
        "id": "724KmMT10hfy",
        "outputId": "7de3d4e3-2185-4b74-8a77-b31c1d33b473"
      },
      "source": [
        "t.head()"
      ],
      "execution_count": null,
      "outputs": [
        {
          "output_type": "execute_result",
          "data": {
            "text/html": [
              "<div>\n",
              "<style scoped>\n",
              "    .dataframe tbody tr th:only-of-type {\n",
              "        vertical-align: middle;\n",
              "    }\n",
              "\n",
              "    .dataframe tbody tr th {\n",
              "        vertical-align: top;\n",
              "    }\n",
              "\n",
              "    .dataframe thead th {\n",
              "        text-align: right;\n",
              "    }\n",
              "</style>\n",
              "<table border=\"1\" class=\"dataframe\">\n",
              "  <thead>\n",
              "    <tr style=\"text-align: right;\">\n",
              "      <th></th>\n",
              "      <th>level</th>\n",
              "      <th>uid</th>\n",
              "      <th>count</th>\n",
              "    </tr>\n",
              "  </thead>\n",
              "  <tbody>\n",
              "    <tr>\n",
              "      <th>0</th>\n",
              "      <td>1</td>\n",
              "      <td>M001TWRFNWc5MjQ1MDI3MTAyMjE5MA</td>\n",
              "      <td>1</td>\n",
              "    </tr>\n",
              "    <tr>\n",
              "      <th>1</th>\n",
              "      <td>1</td>\n",
              "      <td>M001VTlGalU5MzcwMTI3MTAyMjE5Mg</td>\n",
              "      <td>1</td>\n",
              "    </tr>\n",
              "    <tr>\n",
              "      <th>2</th>\n",
              "      <td>1</td>\n",
              "      <td>M010Z2VmOFgzMzgwMTI3MTAyMjE4Mg</td>\n",
              "      <td>1</td>\n",
              "    </tr>\n",
              "    <tr>\n",
              "      <th>3</th>\n",
              "      <td>1</td>\n",
              "      <td>M01QQlBMVmo1NTcyODA3MTAyMjE4MQ</td>\n",
              "      <td>1</td>\n",
              "    </tr>\n",
              "    <tr>\n",
              "      <th>4</th>\n",
              "      <td>1</td>\n",
              "      <td>M01TMDNDdzA0MDkwNzE3MTAyMjE2MA</td>\n",
              "      <td>1</td>\n",
              "    </tr>\n",
              "  </tbody>\n",
              "</table>\n",
              "</div>"
            ],
            "text/plain": [
              "   level                             uid  count\n",
              "0      1  M001TWRFNWc5MjQ1MDI3MTAyMjE5MA      1\n",
              "1      1  M001VTlGalU5MzcwMTI3MTAyMjE5Mg      1\n",
              "2      1  M010Z2VmOFgzMzgwMTI3MTAyMjE4Mg      1\n",
              "3      1  M01QQlBMVmo1NTcyODA3MTAyMjE4MQ      1\n",
              "4      1  M01TMDNDdzA0MDkwNzE3MTAyMjE2MA      1"
            ]
          },
          "metadata": {
            "tags": []
          },
          "execution_count": 131
        }
      ]
    },
    {
      "cell_type": "code",
      "metadata": {
        "id": "OTW45O-Y0ovZ"
      },
      "source": [
        "tt = t.groupby('level')['count'].agg(['count','mean','median'])"
      ],
      "execution_count": null,
      "outputs": []
    },
    {
      "cell_type": "code",
      "metadata": {
        "colab": {
          "base_uri": "https://localhost:8080/",
          "height": 225
        },
        "id": "XvjKjKG708GO",
        "outputId": "5f5b2ad1-7856-4174-9032-dbdb2873655d"
      },
      "source": [
        "tt.head()"
      ],
      "execution_count": null,
      "outputs": [
        {
          "output_type": "execute_result",
          "data": {
            "text/html": [
              "<div>\n",
              "<style scoped>\n",
              "    .dataframe tbody tr th:only-of-type {\n",
              "        vertical-align: middle;\n",
              "    }\n",
              "\n",
              "    .dataframe tbody tr th {\n",
              "        vertical-align: top;\n",
              "    }\n",
              "\n",
              "    .dataframe thead th {\n",
              "        text-align: right;\n",
              "    }\n",
              "</style>\n",
              "<table border=\"1\" class=\"dataframe\">\n",
              "  <thead>\n",
              "    <tr style=\"text-align: right;\">\n",
              "      <th></th>\n",
              "      <th>count</th>\n",
              "      <th>mean</th>\n",
              "      <th>median</th>\n",
              "    </tr>\n",
              "    <tr>\n",
              "      <th>level</th>\n",
              "      <th></th>\n",
              "      <th></th>\n",
              "      <th></th>\n",
              "    </tr>\n",
              "  </thead>\n",
              "  <tbody>\n",
              "    <tr>\n",
              "      <th>1</th>\n",
              "      <td>24162</td>\n",
              "      <td>1.041180</td>\n",
              "      <td>1.0</td>\n",
              "    </tr>\n",
              "    <tr>\n",
              "      <th>2</th>\n",
              "      <td>22177</td>\n",
              "      <td>1.051224</td>\n",
              "      <td>1.0</td>\n",
              "    </tr>\n",
              "    <tr>\n",
              "      <th>3</th>\n",
              "      <td>21415</td>\n",
              "      <td>1.103619</td>\n",
              "      <td>1.0</td>\n",
              "    </tr>\n",
              "    <tr>\n",
              "      <th>4</th>\n",
              "      <td>20916</td>\n",
              "      <td>1.034423</td>\n",
              "      <td>1.0</td>\n",
              "    </tr>\n",
              "    <tr>\n",
              "      <th>5</th>\n",
              "      <td>20625</td>\n",
              "      <td>1.318400</td>\n",
              "      <td>1.0</td>\n",
              "    </tr>\n",
              "  </tbody>\n",
              "</table>\n",
              "</div>"
            ],
            "text/plain": [
              "       count      mean  median\n",
              "level                         \n",
              "1      24162  1.041180     1.0\n",
              "2      22177  1.051224     1.0\n",
              "3      21415  1.103619     1.0\n",
              "4      20916  1.034423     1.0\n",
              "5      20625  1.318400     1.0"
            ]
          },
          "metadata": {
            "tags": []
          },
          "execution_count": 136
        }
      ]
    },
    {
      "cell_type": "code",
      "metadata": {
        "colab": {
          "base_uri": "https://localhost:8080/",
          "height": 297
        },
        "id": "_C9Sve400v91",
        "outputId": "df2506b0-d1fe-46f4-d968-c61f39cf07e3"
      },
      "source": [
        "tt['count'].plot()"
      ],
      "execution_count": null,
      "outputs": [
        {
          "output_type": "execute_result",
          "data": {
            "text/plain": [
              "<matplotlib.axes._subplots.AxesSubplot at 0x7f4ebefff110>"
            ]
          },
          "metadata": {
            "tags": []
          },
          "execution_count": 139
        },
        {
          "output_type": "display_data",
          "data": {
            "image/png": "[encoded data removed]",
            "text/plain": [
              "<Figure size 432x288 with 1 Axes>"
            ]
          },
          "metadata": {
            "tags": [],
            "needs_background": "light"
          }
        }
      ]
    },
    {
      "cell_type": "code",
      "metadata": {
        "colab": {
          "base_uri": "https://localhost:8080/",
          "height": 296
        },
        "id": "NFGB92DN06E3",
        "outputId": "884e41ed-7fea-4246-e07c-71266510c797"
      },
      "source": [
        "tt['mean'].plot()"
      ],
      "execution_count": null,
      "outputs": [
        {
          "output_type": "execute_result",
          "data": {
            "text/plain": [
              "<matplotlib.axes._subplots.AxesSubplot at 0x7f4ebe8f9590>"
            ]
          },
          "metadata": {
            "tags": []
          },
          "execution_count": 140
        },
        {
          "output_type": "display_data",
          "data": {
            "image/png": "[encoded data removed]",
            "text/plain": [
              "<Figure size 432x288 with 1 Axes>"
            ]
          },
          "metadata": {
            "tags": [],
            "needs_background": "light"
          }
        }
      ]
    },
    {
      "cell_type": "code",
      "metadata": {
        "colab": {
          "base_uri": "https://localhost:8080/",
          "height": 554
        },
        "id": "yDuI3XNZ1Lo-",
        "outputId": "4b194d1b-566a-4fc7-b520-582b7641ba31"
      },
      "source": [
        "tt['median'].plot(figsize=(16,9))"
      ],
      "execution_count": null,
      "outputs": [
        {
          "output_type": "execute_result",
          "data": {
            "text/plain": [
              "<matplotlib.axes._subplots.AxesSubplot at 0x7f4ebe7d7650>"
            ]
          },
          "metadata": {
            "tags": []
          },
          "execution_count": 146
        },
        {
          "output_type": "display_data",
          "data": {
            "image/png": "[encoded data removed]",
            "text/plain": [
              "<Figure size 1152x648 with 1 Axes>"
            ]
          },
          "metadata": {
            "tags": [],
            "needs_background": "light"
          }
        }
      ]
    },
    {
      "cell_type": "code",
      "metadata": {
        "id": "pVRFfuXY1PIx"
      },
      "source": [
        "tt = tt.reset_index('level')"
      ],
      "execution_count": null,
      "outputs": []
    },
    {
      "cell_type": "code",
      "metadata": {
        "colab": {
          "base_uri": "https://localhost:8080/",
          "height": 297
        },
        "id": "v6wgQGvW1fca",
        "outputId": "b4d56651-6757-4d10-fa80-c5df167ffc9b"
      },
      "source": [
        "tt.plot(x='level',y='count',kind='scatter')"
      ],
      "execution_count": null,
      "outputs": [
        {
          "output_type": "execute_result",
          "data": {
            "text/plain": [
              "<matplotlib.axes._subplots.AxesSubplot at 0x7f4ebe7ef050>"
            ]
          },
          "metadata": {
            "tags": []
          },
          "execution_count": 145
        },
        {
          "output_type": "display_data",
          "data": {
            "image/png": "[encoded data removed]",
            "text/plain": [
              "<Figure size 432x288 with 1 Axes>"
            ]
          },
          "metadata": {
            "tags": [],
            "needs_background": "light"
          }
        }
      ]
    },
    {
      "cell_type": "code",
      "metadata": {
        "colab": {
          "base_uri": "https://localhost:8080/"
        },
        "id": "Lc6b3Arh1zVq",
        "outputId": "82bd5b7b-c8db-4ba5-89fd-2bf55995b8df"
      },
      "source": [
        "tt['median']"
      ],
      "execution_count": null,
      "outputs": [
        {
          "output_type": "execute_result",
          "data": {
            "text/plain": [
              "0      1.0\n",
              "1      1.0\n",
              "2      1.0\n",
              "3      1.0\n",
              "4      1.0\n",
              "      ... \n",
              "495    3.0\n",
              "496    2.0\n",
              "497    4.0\n",
              "498    3.0\n",
              "499    5.0\n",
              "Name: median, Length: 500, dtype: float64"
            ]
          },
          "metadata": {
            "tags": []
          },
          "execution_count": 147
        }
      ]
    },
    {
      "cell_type": "code",
      "metadata": {
        "colab": {
          "base_uri": "https://localhost:8080/",
          "height": 563
        },
        "id": "d635zN8F2gRE",
        "outputId": "ffe963b5-6bc7-43c4-edd7-610fa7a93314"
      },
      "source": [
        "tt['median'].plot(kind='bar',figsize=(16,9))"
      ],
      "execution_count": null,
      "outputs": [
        {
          "output_type": "execute_result",
          "data": {
            "text/plain": [
              "<matplotlib.axes._subplots.AxesSubplot at 0x7f4ebe7d7550>"
            ]
          },
          "metadata": {
            "tags": []
          },
          "execution_count": 148
        },
        {
          "output_type": "display_data",
          "data": {
            "image/png": "[encoded data removed]",
            "text/plain": [
              "<Figure size 1152x648 with 1 Axes>"
            ]
          },
          "metadata": {
            "tags": [],
            "needs_background": "light"
          }
        }
      ]
    },
    {
      "cell_type": "code",
      "metadata": {
        "id": "PCm_BxfW2oCP"
      },
      "source": [
        "t = tt['median'].reset_index()"
      ],
      "execution_count": null,
      "outputs": []
    },
    {
      "cell_type": "code",
      "metadata": {
        "colab": {
          "base_uri": "https://localhost:8080/"
        },
        "id": "GIhyMn2-3BJu",
        "outputId": "8c269aa9-52e3-41ac-8346-3d20d63e2dcd"
      },
      "source": [
        "t['median'].value_counts()"
      ],
      "execution_count": null,
      "outputs": [
        {
          "output_type": "execute_result",
          "data": {
            "text/plain": [
              "3.0     124\n",
              "4.0      94\n",
              "2.0      88\n",
              "5.0      70\n",
              "6.0      50\n",
              "7.0      39\n",
              "1.0      19\n",
              "8.0      12\n",
              "10.0      2\n",
              "8.5       1\n",
              "9.0       1\n",
              "Name: median, dtype: int64"
            ]
          },
          "metadata": {
            "tags": []
          },
          "execution_count": 153
        }
      ]
    },
    {
      "cell_type": "markdown",
      "metadata": {
        "id": "fGDiM-zg3IbA"
      },
      "source": [
        "Посмотреть только на тех пользователей, которые прошли с 1 до 200. с 1 по 400. "
      ]
    },
    {
      "cell_type": "code",
      "metadata": {
        "id": "RO1hNYJa4vvD"
      },
      "source": [],
      "execution_count": null,
      "outputs": []
    }
  ]
}